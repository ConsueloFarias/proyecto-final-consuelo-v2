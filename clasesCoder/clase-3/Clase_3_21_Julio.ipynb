{
  "nbformat": 4,
  "nbformat_minor": 0,
  "metadata": {
    "colab": {
      "provenance": [],
      "authorship_tag": "ABX9TyPi6kgBvvCpAfzfutVXhdAA",
      "include_colab_link": true
    },
    "kernelspec": {
      "name": "python3",
      "display_name": "Python 3"
    },
    "language_info": {
      "name": "python"
    }
  },
  "cells": [
    {
      "cell_type": "markdown",
      "metadata": {
        "id": "view-in-github",
        "colab_type": "text"
      },
      "source": [
        "<a href=\"https://colab.research.google.com/github/ConsueloFarias/proyecto-final-consuelo-v2/blob/main/clasesCoder/Clase_3_21_Julio.ipynb\" target=\"_parent\"><img src=\"https://colab.research.google.com/assets/colab-badge.svg\" alt=\"Open In Colab\"/></a>"
      ]
    },
    {
      "cell_type": "code",
      "execution_count": null,
      "metadata": {
        "id": "3I3rRTDS_hiN"
      },
      "outputs": [],
      "source": [
        "import numpy as np"
      ]
    },
    {
      "cell_type": "code",
      "source": [
        "array_unidimensional = np.array ([1,2,3,4,5])\n"
      ],
      "metadata": {
        "id": "knyMgLW2_jbg"
      },
      "execution_count": null,
      "outputs": []
    },
    {
      "cell_type": "code",
      "source": [
        "print(array_unidimensional)"
      ],
      "metadata": {
        "colab": {
          "base_uri": "https://localhost:8080/"
        },
        "id": "bMkc1NUQ_ppf",
        "outputId": "ed43de9d-da91-4931-8fe5-281d04dd92be"
      },
      "execution_count": null,
      "outputs": [
        {
          "output_type": "stream",
          "name": "stdout",
          "text": [
            "[1 2 3 4 5]\n"
          ]
        }
      ]
    },
    {
      "cell_type": "code",
      "source": [
        "array_bidimesional = np.zeros((2,3))"
      ],
      "metadata": {
        "id": "RfutAFEKAJPi"
      },
      "execution_count": null,
      "outputs": []
    },
    {
      "cell_type": "code",
      "source": [
        "print(array_bidimesional)"
      ],
      "metadata": {
        "colab": {
          "base_uri": "https://localhost:8080/"
        },
        "id": "Mpqyos5_AacR",
        "outputId": "acd5b908-6901-4eea-b5ac-c60802a785d3"
      },
      "execution_count": null,
      "outputs": [
        {
          "output_type": "stream",
          "name": "stdout",
          "text": [
            "[[0. 0. 0.]\n",
            " [0. 0. 0.]]\n"
          ]
        }
      ]
    },
    {
      "cell_type": "code",
      "source": [
        "array_zeros = np.zeros(5)"
      ],
      "metadata": {
        "id": "zmpXZ3_sBPXv"
      },
      "execution_count": null,
      "outputs": []
    },
    {
      "cell_type": "code",
      "source": [
        "array_ones = np.ones(5)"
      ],
      "metadata": {
        "id": "Z_pdrcdEBYUu"
      },
      "execution_count": null,
      "outputs": []
    },
    {
      "cell_type": "code",
      "source": [
        "array_full = np.full(5,7)"
      ],
      "metadata": {
        "id": "CSod9CLhBOf_"
      },
      "execution_count": null,
      "outputs": []
    },
    {
      "cell_type": "code",
      "source": [
        "print(array_zeros)"
      ],
      "metadata": {
        "colab": {
          "base_uri": "https://localhost:8080/"
        },
        "id": "aJ4ylRHwBmuf",
        "outputId": "656747cd-fa10-423e-a4e7-f8d1697fc613"
      },
      "execution_count": null,
      "outputs": [
        {
          "output_type": "stream",
          "name": "stdout",
          "text": [
            "[0. 0. 0. 0. 0.]\n"
          ]
        }
      ]
    },
    {
      "cell_type": "code",
      "source": [
        "print(array_ones)"
      ],
      "metadata": {
        "colab": {
          "base_uri": "https://localhost:8080/"
        },
        "id": "qMvr-QoaBsmT",
        "outputId": "1523c996-510b-43a7-e12e-411d0fa25c34"
      },
      "execution_count": null,
      "outputs": [
        {
          "output_type": "stream",
          "name": "stdout",
          "text": [
            "[1. 1. 1. 1. 1.]\n"
          ]
        }
      ]
    },
    {
      "cell_type": "code",
      "source": [
        "print(array_full)"
      ],
      "metadata": {
        "colab": {
          "base_uri": "https://localhost:8080/"
        },
        "id": "Pi4L2LyiBw-c",
        "outputId": "3e7b97aa-694c-470b-f957-fde01f3fb536"
      },
      "execution_count": null,
      "outputs": [
        {
          "output_type": "stream",
          "name": "stdout",
          "text": [
            "[7 7 7 7 7]\n"
          ]
        }
      ]
    },
    {
      "cell_type": "code",
      "source": [
        "import numpy as np\n",
        "\n",
        "# Crear un ndarray de ceros con 10 elementos\n",
        "arr = np.zeros(10)\n",
        "\n",
        "print(arr.ndim)       # Output: 1 (una dimensión)\n",
        "print(arr.shape)      # Output: (10,) (10 elementos en una sola dimensión)\n",
        "print(arr.size)       # Output: 10 (10 elementos en total)\n",
        "print(arr.dtype)      # Output: float64 (tipo de dato de los elementos)\n",
        "print(arr.itemsize)   # Output: 8 (cada elemento ocupa 8 bytes)\n",
        "print(arr.nbytes)     # Output: 80 (10 elementos * 8 bytes por elemento)"
      ],
      "metadata": {
        "colab": {
          "base_uri": "https://localhost:8080/"
        },
        "id": "MJYctl2fDcBH",
        "outputId": "eb6d03b4-59d1-4d8f-cfe1-b156fa99f9a8"
      },
      "execution_count": null,
      "outputs": [
        {
          "output_type": "stream",
          "name": "stdout",
          "text": [
            "1\n",
            "(10,)\n",
            "10\n",
            "float64\n",
            "8\n",
            "80\n"
          ]
        }
      ]
    },
    {
      "cell_type": "code",
      "source": [
        "arr = np.arange(12)"
      ],
      "metadata": {
        "id": "IHBKmebfE-RR"
      },
      "execution_count": null,
      "outputs": []
    },
    {
      "cell_type": "code",
      "source": [
        "print(arr)"
      ],
      "metadata": {
        "colab": {
          "base_uri": "https://localhost:8080/"
        },
        "id": "E45mcpA1FJEd",
        "outputId": "2b1d1973-be51-4a36-c16c-061408d1b911"
      },
      "execution_count": null,
      "outputs": [
        {
          "output_type": "stream",
          "name": "stdout",
          "text": [
            "[ 0  1  2  3  4  5  6  7  8  9 10 11]\n"
          ]
        }
      ]
    },
    {
      "cell_type": "code",
      "source": [
        "arr_reshaped = arr.reshape((3,4))"
      ],
      "metadata": {
        "id": "gauQnF7RFMeb"
      },
      "execution_count": null,
      "outputs": []
    },
    {
      "cell_type": "code",
      "source": [
        "print(arr_reshaped)"
      ],
      "metadata": {
        "colab": {
          "base_uri": "https://localhost:8080/"
        },
        "id": "blSFHn8HFSd6",
        "outputId": "49368d07-ceb9-4a53-942f-02259a948580"
      },
      "execution_count": null,
      "outputs": [
        {
          "output_type": "stream",
          "name": "stdout",
          "text": [
            "[[ 0  1  2  3]\n",
            " [ 4  5  6  7]\n",
            " [ 8  9 10 11]]\n"
          ]
        }
      ]
    },
    {
      "cell_type": "code",
      "source": [
        "\n",
        "# Crear dos arrays\n",
        "arr1 = np.array([1, 2, 3])\n",
        "arr2 = np.array([4, 5, 6])\n",
        "\n",
        "# Concatenar los arrays horizontalmente (por defecto)\n",
        "arr_concatenated = np.concatenate((arr1, arr2))\n",
        "\n",
        "print(arr_concatenated)"
      ],
      "metadata": {
        "colab": {
          "base_uri": "https://localhost:8080/"
        },
        "id": "LlRotSiAF6zB",
        "outputId": "36b7cb97-7f0b-4846-fd01-f77b15db0135"
      },
      "execution_count": null,
      "outputs": [
        {
          "output_type": "stream",
          "name": "stdout",
          "text": [
            "[1 2 3 4 5 6]\n"
          ]
        }
      ]
    },
    {
      "cell_type": "code",
      "source": [
        "import numpy as np\n",
        "\n",
        "# Crear un array de 9 elementos\n",
        "arr = np.arange(9)\n",
        "\n",
        "print(arr)"
      ],
      "metadata": {
        "colab": {
          "base_uri": "https://localhost:8080/"
        },
        "id": "cgFF3CfjGm2v",
        "outputId": "032f9331-6a15-4c24-cd2a-c3028741041f"
      },
      "execution_count": null,
      "outputs": [
        {
          "output_type": "stream",
          "name": "stdout",
          "text": [
            "[0 1 2 3 4 5 6 7 8]\n"
          ]
        }
      ]
    },
    {
      "cell_type": "code",
      "source": [
        "# Dividir el array en 3 subarrays\n",
        "arr_split = np.split(arr, 3)\n",
        "\n",
        "print(arr_split)"
      ],
      "metadata": {
        "colab": {
          "base_uri": "https://localhost:8080/"
        },
        "id": "ao7056NhGrBp",
        "outputId": "7203642c-17d9-41b1-8bcf-70abfc77279f"
      },
      "execution_count": null,
      "outputs": [
        {
          "output_type": "stream",
          "name": "stdout",
          "text": [
            "[array([0, 1, 2]), array([3, 4, 5]), array([6, 7, 8])]\n"
          ]
        }
      ]
    },
    {
      "cell_type": "code",
      "source": [
        "# Dividir el array en 3 subarrays\n",
        "arr_split = np.hsplit(arr, 3)\n",
        "\n",
        "print(arr_split)"
      ],
      "metadata": {
        "colab": {
          "base_uri": "https://localhost:8080/"
        },
        "id": "8bfc2tcxG7iI",
        "outputId": "ba5a471d-23b1-40d0-c72a-d38a52610bf7"
      },
      "execution_count": null,
      "outputs": [
        {
          "output_type": "stream",
          "name": "stdout",
          "text": [
            "[array([0, 1, 2]), array([3, 4, 5]), array([6, 7, 8])]\n"
          ]
        }
      ]
    },
    {
      "cell_type": "code",
      "source": [
        "import pandas as pd"
      ],
      "metadata": {
        "id": "zlm9TBBuYVcv"
      },
      "execution_count": 2,
      "outputs": []
    }
  ]
}
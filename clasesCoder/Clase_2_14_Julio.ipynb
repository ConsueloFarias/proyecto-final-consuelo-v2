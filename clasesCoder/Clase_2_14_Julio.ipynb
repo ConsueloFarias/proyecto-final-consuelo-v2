{
  "nbformat": 4,
  "nbformat_minor": 0,
  "metadata": {
    "colab": {
      "provenance": [],
      "authorship_tag": "ABX9TyPCGqIDWbmqwqbyclHajXOb",
      "include_colab_link": true
    },
    "kernelspec": {
      "name": "python3",
      "display_name": "Python 3"
    },
    "language_info": {
      "name": "python"
    }
  },
  "cells": [
    {
      "cell_type": "markdown",
      "metadata": {
        "id": "view-in-github",
        "colab_type": "text"
      },
      "source": [
        "<a href=\"https://colab.research.google.com/github/ConsueloFarias/proyecto-final-consuelo-v2/blob/main/clasesCoder/Clase_2_14_Julio.ipynb\" target=\"_parent\"><img src=\"https://colab.research.google.com/assets/colab-badge.svg\" alt=\"Open In Colab\"/></a>"
      ]
    },
    {
      "cell_type": "markdown",
      "source": [],
      "metadata": {
        "id": "2BeofwYK_eD_"
      }
    },
    {
      "cell_type": "code",
      "source": [
        "x = 10\n",
        "if x > 5:\n",
        "    print(\"x es mayor que 5\")\n",
        "elif x == 5:\n",
        "    print(\"x es igual a 5\")\n",
        "else:\n",
        "    print(\"x es menor que 5\")"
      ],
      "metadata": {
        "colab": {
          "base_uri": "https://localhost:8080/"
        },
        "id": "WVnYx_Ofp4XH",
        "outputId": "d5676a3b-45fc-4b48-d92d-b5861eba367c"
      },
      "execution_count": null,
      "outputs": [
        {
          "output_type": "stream",
          "name": "stdout",
          "text": [
            "x es igual a 5\n"
          ]
        }
      ]
    },
    {
      "cell_type": "code",
      "source": [
        "i = 0\n",
        "while i < 5:\n",
        "    print(i)\n",
        "    i += 1\n"
      ],
      "metadata": {
        "colab": {
          "base_uri": "https://localhost:8080/"
        },
        "id": "I3g-6UKNspkY",
        "outputId": "a0e6785e-793a-45f4-c416-447609aa6bbc"
      },
      "execution_count": null,
      "outputs": [
        {
          "output_type": "stream",
          "name": "stdout",
          "text": [
            "0\n",
            "1\n",
            "2\n",
            "3\n",
            "4\n"
          ]
        }
      ]
    },
    {
      "cell_type": "code",
      "source": [
        "def nombre_de_la_funcion(argumento1, argumento2):\n",
        "    # Operaciones a realizar\n",
        "    resultado = argumento1 + argumento2\n",
        "    return resultado"
      ],
      "metadata": {
        "id": "IkxKM_aQs64d"
      },
      "execution_count": null,
      "outputs": []
    },
    {
      "cell_type": "code",
      "source": [
        "#def multiplicar(x, y):\n",
        " #   return x * y\n",
        "def calcular_area(largo, ancho):\n",
        "    area = largo * ancho\n",
        "    return area\n",
        "\n",
        "# Uso de la función\n",
        "resultado = calcular_area(5, 3)\n",
        "print(f\"El área del rectángulo es: {resultado}\")"
      ],
      "metadata": {
        "colab": {
          "base_uri": "https://localhost:8080/"
        },
        "id": "Yqp0p32m0EBO",
        "outputId": "4f283b26-ad9f-4f07-a0d8-af852ca7593a"
      },
      "execution_count": null,
      "outputs": [
        {
          "output_type": "stream",
          "name": "stdout",
          "text": [
            "El área del rectángulo es: 15\n"
          ]
        }
      ]
    },
    {
      "cell_type": "code",
      "source": [],
      "metadata": {
        "id": "kqI6y1TD0WRl"
      },
      "execution_count": null,
      "outputs": []
    }
  ]
}
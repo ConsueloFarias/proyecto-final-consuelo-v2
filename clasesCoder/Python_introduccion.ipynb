{
  "nbformat": 4,
  "nbformat_minor": 0,
  "metadata": {
    "colab": {
      "provenance": [],
      "include_colab_link": true
    },
    "kernelspec": {
      "name": "python3",
      "display_name": "Python 3"
    },
    "language_info": {
      "name": "python"
    }
  },
  "cells": [
    {
      "cell_type": "markdown",
      "metadata": {
        "id": "view-in-github",
        "colab_type": "text"
      },
      "source": [
        "<a href=\"https://colab.research.google.com/github/ConsueloFarias/proyecto-final-consuelo-v2/blob/main/Copia_de_Python_introduccion.ipynb\" target=\"_parent\"><img src=\"https://colab.research.google.com/assets/colab-badge.svg\" alt=\"Open In Colab\"/></a>"
      ]
    },
    {
      "cell_type": "markdown",
      "source": [
        "# Clase 1\n",
        "\n",
        "## Revisión de conceptos básicos de Python"
      ],
      "metadata": {
        "id": "SSgi3o-iy5JP"
      }
    },
    {
      "cell_type": "markdown",
      "source": [
        "### Temas a cubrir:\n",
        "#### 1. Variables y tipos de datos (int, float, str, list, dict, tuple, set)\n",
        "#### 2. Operadores aritméticos, lógicos y de comparación\n",
        "#### 3. Estructuras de control de flujo (if, elif, else)\n",
        "#### 4. Ciclos (for, while)\n",
        "#### 5. Funciones básicas y cómo definirlas en Python\n",
        "#### 6. Uso de módulos y bibliotecas básicas (ej. random)"
      ],
      "metadata": {
        "id": "GflUbKa0zHCe"
      }
    },
    {
      "cell_type": "markdown",
      "source": [
        "## 1. Variables y tipos de datos (int, float, str, list, dict, tuple, set)"
      ],
      "metadata": {
        "id": "l8SjpGtcN6PA"
      }
    },
    {
      "cell_type": "code",
      "execution_count": null,
      "metadata": {
        "colab": {
          "base_uri": "https://localhost:8080/"
        },
        "id": "rmaeCXCVyuJh",
        "outputId": "b273ac42-8300-440f-e8d6-f9011ea9ef66"
      },
      "outputs": [
        {
          "output_type": "execute_result",
          "data": {
            "text/plain": [
              "int"
            ]
          },
          "metadata": {},
          "execution_count": 1
        }
      ],
      "source": [
        "# integer -> int\n",
        "entero = 5\n",
        "type(entero)"
      ]
    },
    {
      "cell_type": "code",
      "source": [
        "entero"
      ],
      "metadata": {
        "colab": {
          "base_uri": "https://localhost:8080/"
        },
        "id": "dPrCAybYVYPg",
        "outputId": "6f1f6dcb-5a86-4ade-9e48-bed6e8c172d8"
      },
      "execution_count": null,
      "outputs": [
        {
          "output_type": "execute_result",
          "data": {
            "text/plain": [
              "5"
            ]
          },
          "metadata": {},
          "execution_count": 2
        }
      ]
    },
    {
      "cell_type": "code",
      "source": [
        "# float\n",
        "decimal = 2.1\n",
        "type(decimal)"
      ],
      "metadata": {
        "colab": {
          "base_uri": "https://localhost:8080/"
        },
        "id": "iruo0_9Zy2XX",
        "outputId": "4cbfca2c-be1f-421c-e4c7-09ffcd954b88"
      },
      "execution_count": null,
      "outputs": [
        {
          "output_type": "execute_result",
          "data": {
            "text/plain": [
              "float"
            ]
          },
          "metadata": {},
          "execution_count": 4
        }
      ]
    },
    {
      "cell_type": "code",
      "source": [
        "decimal"
      ],
      "metadata": {
        "colab": {
          "base_uri": "https://localhost:8080/"
        },
        "id": "Xyk96LC8Vgqt",
        "outputId": "ebcbec40-7a60-4c7e-da6d-e24baa95d891"
      },
      "execution_count": null,
      "outputs": [
        {
          "output_type": "execute_result",
          "data": {
            "text/plain": [
              "2.1"
            ]
          },
          "metadata": {},
          "execution_count": 5
        }
      ]
    },
    {
      "cell_type": "code",
      "source": [
        "# string -> str\n",
        "cadena_caracteres = \"Hola's\"\n",
        "type(cadena_caracteres)"
      ],
      "metadata": {
        "colab": {
          "base_uri": "https://localhost:8080/"
        },
        "id": "3g53OhNNz0Bh",
        "outputId": "88b4d15c-7539-4960-b2b3-30395b5012d1"
      },
      "execution_count": null,
      "outputs": [
        {
          "output_type": "execute_result",
          "data": {
            "text/plain": [
              "str"
            ]
          },
          "metadata": {},
          "execution_count": 6
        }
      ]
    },
    {
      "cell_type": "code",
      "source": [
        "# list\n",
        "lista = [1, 2, 3, 4, 5]\n",
        "type(lista)"
      ],
      "metadata": {
        "colab": {
          "base_uri": "https://localhost:8080/"
        },
        "id": "mLAUiN3dz9mx",
        "outputId": "b35f41b8-0d83-44a2-f53e-4484a07a3eb0"
      },
      "execution_count": null,
      "outputs": [
        {
          "output_type": "execute_result",
          "data": {
            "text/plain": [
              "list"
            ]
          },
          "metadata": {},
          "execution_count": 7
        }
      ]
    },
    {
      "cell_type": "code",
      "source": [
        "# dict -> dictionary\n",
        "diccionario = {\"nombre\": \"Juan\", \"edad\": 30}\n",
        "type(diccionario)"
      ],
      "metadata": {
        "colab": {
          "base_uri": "https://localhost:8080/"
        },
        "id": "D2vj65Ia0Qey",
        "outputId": "449df3e2-d429-44ae-da98-e3665b8b13c0"
      },
      "execution_count": null,
      "outputs": [
        {
          "output_type": "execute_result",
          "data": {
            "text/plain": [
              "dict"
            ]
          },
          "metadata": {},
          "execution_count": 8
        }
      ]
    },
    {
      "cell_type": "code",
      "source": [
        "# tuple\n",
        "tupla = (1, 2, 3, 4, 5)\n",
        "type(tupla)"
      ],
      "metadata": {
        "colab": {
          "base_uri": "https://localhost:8080/"
        },
        "id": "UW0sj8HL0l-E",
        "outputId": "ecdcd8db-d784-4dcc-dbd3-968e0dfad949"
      },
      "execution_count": null,
      "outputs": [
        {
          "output_type": "execute_result",
          "data": {
            "text/plain": [
              "tuple"
            ]
          },
          "metadata": {},
          "execution_count": 10
        }
      ]
    },
    {
      "cell_type": "code",
      "source": [
        "# set\n",
        "conjunto = {1, 2, 3, 4, 5}\n",
        "type(conjunto)"
      ],
      "metadata": {
        "colab": {
          "base_uri": "https://localhost:8080/"
        },
        "id": "jZhV2vyr0qUp",
        "outputId": "19c1e9f8-fb6d-4bcb-c9b4-744da4155267"
      },
      "execution_count": null,
      "outputs": [
        {
          "output_type": "execute_result",
          "data": {
            "text/plain": [
              "set"
            ]
          },
          "metadata": {},
          "execution_count": 11
        }
      ]
    },
    {
      "cell_type": "markdown",
      "source": [
        "### Tipos de Datos en Python: Mutables e Inmutables"
      ],
      "metadata": {
        "id": "ci6Pacnz1Btf"
      }
    },
    {
      "cell_type": "markdown",
      "source": [
        "Los objetos inmutables no pueden cambiar su valor una vez que han sido creados. Cualquier operación que parezca modificar un objeto inmutable en realidad crea un nuevo objeto. Los tipos de datos inmutables más comunes en Python incluyen:"
      ],
      "metadata": {
        "id": "7E3TB9D61KPx"
      }
    },
    {
      "cell_type": "markdown",
      "source": [
        "#### Inmutables\n",
        "1. Enteros\n",
        "2. Flotantes\n",
        "3. Cadenas de texto\n",
        "4. Tuplas"
      ],
      "metadata": {
        "id": "MAXVTrTK1OW8"
      }
    },
    {
      "cell_type": "code",
      "source": [
        "# int\n",
        "x = 10\n",
        "x = 20 # Esto no cambia el valor de x; crea un nuevo objeto."
      ],
      "metadata": {
        "id": "xkM5y5ff0sdQ"
      },
      "execution_count": null,
      "outputs": []
    },
    {
      "cell_type": "code",
      "source": [
        "# float\n",
        "y = 3.14\n",
        "y = 6.28  # Nuevamente, se crea un nuevo objeto."
      ],
      "metadata": {
        "id": "4AazXmXo1tXD"
      },
      "execution_count": null,
      "outputs": []
    },
    {
      "cell_type": "code",
      "source": [
        "# str\n",
        "texto = \"Hola\"\n",
        "print(texto[1:])\n",
        "#texto[0] = \"h\"  # Error: No se puede modificar una cadena\n",
        "nuevo_texto = \"h\" + texto[1:]  # Correcto: se crea una nueva cadena\n",
        "print(nuevo_texto)  # Output: \"hola\""
      ],
      "metadata": {
        "colab": {
          "base_uri": "https://localhost:8080/"
        },
        "id": "lYukKhbH1yvh",
        "outputId": "3ee73973-b0ba-4eda-b05c-5a36e178d75e"
      },
      "execution_count": null,
      "outputs": [
        {
          "output_type": "stream",
          "name": "stdout",
          "text": [
            "ola\n",
            "hola\n"
          ]
        }
      ]
    },
    {
      "cell_type": "code",
      "source": [
        "# tuple\n",
        "t = (1, 2, 3)\n",
        "# t[0] = 10  # Error: No se puede modificar una tupla\n",
        "t = t + (4, 5)  # Correcto: se crea una nueva tupla\n",
        "print(t)  # Output: (1, 2, 3, 4, 5)"
      ],
      "metadata": {
        "colab": {
          "base_uri": "https://localhost:8080/"
        },
        "id": "Vy-GmJ9x15LS",
        "outputId": "d825357b-07d7-4d1d-e891-1959f1e43604"
      },
      "execution_count": null,
      "outputs": [
        {
          "output_type": "stream",
          "name": "stdout",
          "text": [
            "(1, 2, 3, 4, 5)\n"
          ]
        }
      ]
    },
    {
      "cell_type": "markdown",
      "source": [
        "Los objetos mutables son aquellos cuyo valor puede cambiar después de su creación. Puedes modificar los elementos de estos objetos sin necesidad de crear nuevos objetos. Los tipos mutables más comunes en Python incluyen:"
      ],
      "metadata": {
        "id": "rdoK8ucZ26Dy"
      }
    },
    {
      "cell_type": "markdown",
      "source": [
        "#### Mutables\n",
        "\n",
        "1. Listas\n",
        "2. Diccionarios\n",
        "3. sets"
      ],
      "metadata": {
        "id": "EQ6wHEZv3GdH"
      }
    },
    {
      "cell_type": "code",
      "source": [
        "# list\n",
        "lista = [1, 2, 3]\n",
        "lista[0] = 10  # Cambia el primer elemento\n",
        "lista.append(4)  # Agrega un nuevo elemento\n",
        "print(lista)  # Output: [10, 2, 3, 4]"
      ],
      "metadata": {
        "colab": {
          "base_uri": "https://localhost:8080/"
        },
        "id": "5FM53f-K2RmG",
        "outputId": "eca02b87-e85a-45e1-ffab-c78c5425df59"
      },
      "execution_count": null,
      "outputs": [
        {
          "output_type": "stream",
          "name": "stdout",
          "text": [
            "[10, 2, 3, 4]\n"
          ]
        }
      ]
    },
    {
      "cell_type": "code",
      "source": [
        "# dict\n",
        "diccionario = {\"nombre\": \"Juan\", \"edad\": 30}\n",
        "diccionario[\"edad\"] = 31  # Cambia el valor de la clave \"edad\"\n",
        "diccionario[\"ciudad\"] = \"Madrid\"  # Agrega una nueva clave\n",
        "print(diccionario)  # Output: {'nombre': 'Juan', 'edad': 31, 'ciudad': 'Madrid'}"
      ],
      "metadata": {
        "colab": {
          "base_uri": "https://localhost:8080/"
        },
        "id": "r-XcVk4p3iOL",
        "outputId": "90cf6fe7-2b4d-4fed-955b-def70810dbdb"
      },
      "execution_count": null,
      "outputs": [
        {
          "output_type": "stream",
          "name": "stdout",
          "text": [
            "{'nombre': 'Juan', 'edad': 31, 'ciudad': 'Madrid'}\n"
          ]
        }
      ]
    },
    {
      "cell_type": "code",
      "source": [
        "# sets\n",
        "conjunto = {1, 2, 3}\n",
        "conjunto.add(4)  # Agrega un elemento al conjunto\n",
        "conjunto.remove(2)  # Elimina un elemento del conjunto\n",
        "print(conjunto)  # Output: {1, 3, 4}"
      ],
      "metadata": {
        "colab": {
          "base_uri": "https://localhost:8080/"
        },
        "id": "nrKdp1KY3t_Q",
        "outputId": "074f26ed-4267-4d20-b319-7bbf4feac3de"
      },
      "execution_count": null,
      "outputs": [
        {
          "output_type": "stream",
          "name": "stdout",
          "text": [
            "{1, 3, 4}\n"
          ]
        }
      ]
    },
    {
      "cell_type": "markdown",
      "source": [
        "### Comparación entre Mutables e Inmutables"
      ],
      "metadata": {
        "id": "B3OCuLK76bKV"
      }
    },
    {
      "cell_type": "markdown",
      "source": [
        "1. **Cambios en el Objeto vs. Creación de Nuevo Objeto:**\n",
        "\n",
        "* Para tipos inmutables como **int**, **float**, **str**, y **tuple**, cualquier operación que modifique el valor creará un nuevo objeto.\n",
        "* Para tipos mutables como **list**, **dict**, y **set**, puedes cambiar el objeto en sí mismo sin crear uno nuevo."
      ],
      "metadata": {
        "id": "6b96oz466qLQ"
      }
    },
    {
      "cell_type": "code",
      "source": [
        "# list -> MUTABLE\n",
        "lista1 = [1, 2, 3]\n",
        "\n",
        "lista2 = lista1\n",
        "\n",
        "lista1.append(4)\n",
        "\n",
        "print(f\"Lista 2: {lista2}\")\n",
        "print(f\"Lista 1: {lista1}\")  # Output: [1, 2, 3, 4] -> Ambas referencias apuntan al mismo objeto"
      ],
      "metadata": {
        "colab": {
          "base_uri": "https://localhost:8080/"
        },
        "id": "G5WNN6_R6yDP",
        "outputId": "7ef58c44-78b3-452e-e9e6-b6ce80686eba"
      },
      "execution_count": null,
      "outputs": [
        {
          "output_type": "stream",
          "name": "stdout",
          "text": [
            "Lista 2: [1, 2, 3, 4]\n",
            "Lista 1: [1, 2, 3, 4]\n"
          ]
        }
      ]
    },
    {
      "cell_type": "code",
      "source": [
        "# tuple -> INMUTABLE\n",
        "tupla1 = (1, 2, 3)\n",
        "tupla2 = tupla1\n",
        "tupla1 = tupla1 + (4,)\n",
        "print(f\"Tupla 2: {tupla2}\")  # Output: (1, 2, 3) -> Se crea un nuevo objeto y `tupla1` apunta al nuevo objeto\n",
        "print(f\"Tupla 1: {tupla1}\")"
      ],
      "metadata": {
        "colab": {
          "base_uri": "https://localhost:8080/"
        },
        "id": "H2_qwk097Fce",
        "outputId": "66258911-e78c-40bd-a05e-8cbfed901b2c"
      },
      "execution_count": null,
      "outputs": [
        {
          "output_type": "stream",
          "name": "stdout",
          "text": [
            "Tupla 2: (1, 2, 3)\n",
            "Tupla 1: (1, 2, 3, 4)\n"
          ]
        }
      ]
    },
    {
      "cell_type": "markdown",
      "source": [
        "2. **Paso por Referencia:**\n",
        "\n",
        "* Los objetos mutables se pasan por referencia en las funciones, lo que significa que si modificas un objeto mutable dentro de una función, se cambiará el objeto original.\n",
        "* Los objetos inmutables también se pasan por referencia, pero como no pueden ser modificados, los cambios crean nuevos objetos en lugar de modificar el original."
      ],
      "metadata": {
        "id": "FWxx10PrAWGk"
      }
    },
    {
      "cell_type": "code",
      "source": [
        "# list -> MUTABLES\n",
        "def modificar_lista(mi_lista):\n",
        "  \"\"\"\n",
        "  Modifica la lista en su lugar.\n",
        "  \"\"\"\n",
        "  mi_lista.append(4)\n",
        "\n",
        "lista = [1, 2, 3]\n",
        "modificar_lista(lista)\n",
        "print(lista)  # Output: [1, 2, 3, 4]"
      ],
      "metadata": {
        "colab": {
          "base_uri": "https://localhost:8080/"
        },
        "id": "JSf6-4qW-Ow6",
        "outputId": "83120b0e-718a-4c83-f542-88edcd51c189"
      },
      "execution_count": null,
      "outputs": [
        {
          "output_type": "stream",
          "name": "stdout",
          "text": [
            "[1, 2, 3, 4]\n"
          ]
        }
      ]
    },
    {
      "cell_type": "code",
      "source": [
        "# int -> INMUTABLE\n",
        "def modificar_entero(numero):\n",
        "  \"\"\"\n",
        "  Crea un nuevo objeto entero y lo asigna a la variable\n",
        "  \"\"\"\n",
        "  numero += 10\n",
        "  print(f\"Dentro de la función: {numero}\")\n",
        "\n",
        "n = 5\n",
        "modificar_entero(n)\n",
        "print(n)  # Output: 5 (El valor original no cambia)\n"
      ],
      "metadata": {
        "colab": {
          "base_uri": "https://localhost:8080/"
        },
        "id": "b9GxAB5iBSJt",
        "outputId": "6806a56d-5974-47cd-e41f-a3261d64be94"
      },
      "execution_count": null,
      "outputs": [
        {
          "output_type": "stream",
          "name": "stdout",
          "text": [
            "Dentro de la función: 15\n",
            "5\n"
          ]
        }
      ]
    },
    {
      "cell_type": "markdown",
      "source": [
        "3. **Eficiencia y Seguridad:**\n",
        "\n",
        "* Los objetos inmutables pueden ser más seguros en situaciones donde no deseas que un valor cambie accidentalmente. Por ejemplo, al usar cadenas de texto, es común usar str por la seguridad que brinda la inmutabilidad.\n",
        "* Sin embargo, los objetos mutables pueden ser más eficientes cuando necesitas realizar muchas modificaciones sin crear nuevas instancias constantemente."
      ],
      "metadata": {
        "id": "fM0mgsxQBoBn"
      }
    },
    {
      "cell_type": "markdown",
      "source": [
        "### Resumen:\n",
        "* Inmutables: `int`, `float`, `str`, `tuple`\n",
        "* Mutables: `list`, `dict`, `set`\n",
        "* Los objetos **mutables** pueden cambiar su estado interno sin cambiar su identidad.\n",
        "* Los objetos **inmutables** no pueden cambiar una vez creados. Cualquier \"cambio\" resulta en la creación de un nuevo objeto."
      ],
      "metadata": {
        "id": "fCQBwZRnK74o"
      }
    },
    {
      "cell_type": "markdown",
      "source": [
        "## Metodos y atributos mas usados en cadena de caracteres, listas y diccionarios"
      ],
      "metadata": {
        "id": "aFxmCcT1huZB"
      }
    },
    {
      "cell_type": "markdown",
      "source": [
        "### 1. Cadenas de caracteres (string)"
      ],
      "metadata": {
        "id": "Z0zZcvGKiE9l"
      }
    },
    {
      "cell_type": "markdown",
      "source": [
        "#### 1. Acceso a indices y subcadenas"
      ],
      "metadata": {
        "id": "_DsHQd-SiRNo"
      }
    },
    {
      "cell_type": "code",
      "source": [
        "texto = \"Vamos a aprender python\"\n",
        "print(texto[0])  # 'V'\n",
        "print(texto[17:22])  # \"python\"\n",
        "print(texto[17:23])  # \"python\""
      ],
      "metadata": {
        "colab": {
          "base_uri": "https://localhost:8080/"
        },
        "id": "RJtv72QEiNbe",
        "outputId": "df46104d-a560-41c5-b4b7-a4ad154226ab"
      },
      "execution_count": 4,
      "outputs": [
        {
          "output_type": "stream",
          "name": "stdout",
          "text": [
            "V\n",
            "pytho\n",
            "python\n"
          ]
        }
      ]
    },
    {
      "cell_type": "code",
      "source": [],
      "metadata": {
        "id": "8NZzbJcSFiV2"
      },
      "execution_count": null,
      "outputs": []
    },
    {
      "cell_type": "markdown",
      "source": [
        "#### 2. Metodos de modificacion"
      ],
      "metadata": {
        "id": "CGjR63Hbiy_i"
      }
    },
    {
      "cell_type": "code",
      "source": [
        "texto = \"Python\"\n",
        "print(texto.upper())  # \"PYTHON\" todo en mayuscula\n",
        "print(texto.lower())  # \"python\" todo en min\n",
        "print(texto.capitalize())  # \"Python\" solo la primera letra en mayus"
      ],
      "metadata": {
        "colab": {
          "base_uri": "https://localhost:8080/"
        },
        "id": "Y2YUiLAQi4Rb",
        "outputId": "2fe7acfe-e51c-491f-f666-ae57fc67c0ab"
      },
      "execution_count": null,
      "outputs": [
        {
          "output_type": "stream",
          "name": "stdout",
          "text": [
            "PYTHON\n",
            "python\n",
            "Python\n"
          ]
        }
      ]
    },
    {
      "cell_type": "code",
      "source": [
        "texto = \"   python.   \"\n",
        "print(texto.strip())  # \"python.\" eliminar espacios vacios\n",
        "print(texto.lstrip())  # \"python.   \" elimina espacios de la izquierda\n",
        "print(texto.rstrip())  # \"   python\" elimina espacios de la derecha"
      ],
      "metadata": {
        "colab": {
          "base_uri": "https://localhost:8080/"
        },
        "id": "Swqfj_4jjLN2",
        "outputId": "bab8419f-db54-4a13-abf1-ddfc02de6bea"
      },
      "execution_count": null,
      "outputs": [
        {
          "output_type": "stream",
          "name": "stdout",
          "text": [
            "python.\n",
            "python.   \n",
            "   python.\n"
          ]
        }
      ]
    },
    {
      "cell_type": "code",
      "source": [
        "texto = \"Python es un lenguaje de programación\"\n",
        "print(texto.replace(\"Python\", \"Java\"))  # \"Java es un lenguaje de programación para reemplazar un texto especifico"
      ],
      "metadata": {
        "colab": {
          "base_uri": "https://localhost:8080/"
        },
        "id": "rHisuXjUjSBr",
        "outputId": "8d2796ca-68b4-4010-8e19-d95b62c52f7b"
      },
      "execution_count": null,
      "outputs": [
        {
          "output_type": "stream",
          "name": "stdout",
          "text": [
            "Java es un lenguaje de programación\n"
          ]
        }
      ]
    },
    {
      "cell_type": "markdown",
      "source": [
        "#### 3. Metodos de busqueda: -> find(), index() y count()\n",
        "\n",
        "* find() -> devuelve -1 si no encuentra lo buscado\n",
        "* index() -> devuelve error si no lo encuentra"
      ],
      "metadata": {
        "id": "OaSzJCAmjcHY"
      }
    },
    {
      "cell_type": "code",
      "source": [
        "texto = \"Python es un lenguaje de programación\"\n",
        "print(texto.find(\"es\"))  # 7 me devuelve el indice en el lugar donde comienza 'ES'\n",
        "print(texto.find(\"C\"))  # -1"
      ],
      "metadata": {
        "id": "huwXUj_3jYtm"
      },
      "execution_count": null,
      "outputs": []
    },
    {
      "cell_type": "markdown",
      "source": [
        "* count() -> cuenta las veces que aparece una subcadena"
      ],
      "metadata": {
        "id": "vXYXJigzjzIY"
      }
    },
    {
      "cell_type": "code",
      "source": [
        "texto = \"Papa\"\n",
        "texto.count(\"a\") # 2 cuenta cuantas a hay en el texto"
      ],
      "metadata": {
        "colab": {
          "base_uri": "https://localhost:8080/"
        },
        "id": "4imJevJvjys9",
        "outputId": "248393df-ec8e-4104-8989-5e6b657bc1e4"
      },
      "execution_count": null,
      "outputs": [
        {
          "output_type": "execute_result",
          "data": {
            "text/plain": [
              "2"
            ]
          },
          "metadata": {},
          "execution_count": 35
        }
      ]
    },
    {
      "cell_type": "markdown",
      "source": [
        "#### 4. Dividir y unir cadenas:\n",
        "\n",
        "* split() -> Divide una cadena en una lista de subcadenas.\n",
        "\n",
        "* join() -> Une una lista de cadenas en una sola cadena."
      ],
      "metadata": {
        "id": "HyVtqpoOlJac"
      }
    },
    {
      "cell_type": "code",
      "source": [
        "text = \"1.2.3.4\" # esto es texto y quiero que me lo splittee en cada . y esto lo pasa a una lista con los valores\n",
        "text.split(\".\")"
      ],
      "metadata": {
        "colab": {
          "base_uri": "https://localhost:8080/"
        },
        "id": "_5Fd2j8Weixy",
        "outputId": "dee51262-c8bc-401f-d2fc-bc2ef9c35809"
      },
      "execution_count": null,
      "outputs": [
        {
          "output_type": "execute_result",
          "data": {
            "text/plain": [
              "['1', '2', '3', '4']"
            ]
          },
          "metadata": {},
          "execution_count": 38
        }
      ]
    },
    {
      "cell_type": "code",
      "source": [
        "texto = \"uno, dos, tres\"\n",
        "texto.split(\", \")  # ['uno', 'dos', 'tres'] , me devuelve una lista a partir de una string"
      ],
      "metadata": {
        "colab": {
          "base_uri": "https://localhost:8080/"
        },
        "id": "CvyLyCs1lY-u",
        "outputId": "819277db-b777-4b13-f174-008b1bdf017e"
      },
      "execution_count": null,
      "outputs": [
        {
          "output_type": "execute_result",
          "data": {
            "text/plain": [
              "['uno', 'dos', 'tres']"
            ]
          },
          "metadata": {},
          "execution_count": 36
        }
      ]
    },
    {
      "cell_type": "code",
      "source": [
        "lista = [\"uno\", \"dos\", \"tres\"]\n",
        "\" \".join(lista)  # \"uno, dos, tres\""
      ],
      "metadata": {
        "colab": {
          "base_uri": "https://localhost:8080/",
          "height": 35
        },
        "id": "e35yJiq4lgNq",
        "outputId": "f05fb952-6ced-4163-c7d5-6eec09e1657b"
      },
      "execution_count": null,
      "outputs": [
        {
          "output_type": "execute_result",
          "data": {
            "text/plain": [
              "'uno dos tres'"
            ],
            "application/vnd.google.colaboratory.intrinsic+json": {
              "type": "string"
            }
          },
          "metadata": {},
          "execution_count": 41
        }
      ]
    },
    {
      "cell_type": "markdown",
      "source": [
        "#### Nota!! cadenas inmutables:\n",
        "Cada vez que modificas una cadena, en realidad estás creando una nueva. Esto es importante al trabajar con cadenas largas, ya que puede ser ineficiente. Usa listas cuando necesites manipular texto extensivamente."
      ],
      "metadata": {
        "id": "Kp6-3pLllln-"
      }
    },
    {
      "cell_type": "markdown",
      "source": [
        "### 2. Listas"
      ],
      "metadata": {
        "id": "R8ys6vJ6lsJd"
      }
    },
    {
      "cell_type": "markdown",
      "source": [
        "#### 1. Agregar y modificar elementos\n",
        "\n",
        "* apend() -> Agrega un elemento al final de la lista\n",
        "* extend() -> Extender una lista con otra lista\n",
        "* insert() -> Insertar un elemento en una posicion especifica"
      ],
      "metadata": {
        "id": "ydQpe2FCly5E"
      }
    },
    {
      "cell_type": "code",
      "source": [
        "lista = [1, 2, 3]\n",
        "lista.append(4)  # [1, 2, 3, 4]\n",
        "lista"
      ],
      "metadata": {
        "colab": {
          "base_uri": "https://localhost:8080/"
        },
        "id": "PrAGrnqjmYhe",
        "outputId": "f8dc7260-4bf1-4316-85e8-76228c3480d1"
      },
      "execution_count": null,
      "outputs": [
        {
          "output_type": "execute_result",
          "data": {
            "text/plain": [
              "[1, 2, 3, 4]"
            ]
          },
          "metadata": {},
          "execution_count": 55
        }
      ]
    },
    {
      "cell_type": "code",
      "source": [
        "lista2 = [5, 6]"
      ],
      "metadata": {
        "id": "CaX70iipiHFQ"
      },
      "execution_count": null,
      "outputs": []
    },
    {
      "cell_type": "code",
      "source": [
        "lista.extend(lista2)  # [1, 2, 3, 4, 5, 6] suma la lista + [5,6]"
      ],
      "metadata": {
        "id": "rVzampRDmcam"
      },
      "execution_count": null,
      "outputs": []
    },
    {
      "cell_type": "code",
      "source": [
        "lista"
      ],
      "metadata": {
        "colab": {
          "base_uri": "https://localhost:8080/"
        },
        "id": "qyYiysQUhzz9",
        "outputId": "a4a2eaaf-3923-4409-8a58-b524f15f9a1f"
      },
      "execution_count": null,
      "outputs": [
        {
          "output_type": "execute_result",
          "data": {
            "text/plain": [
              "[1, 2, 3, 4, 5, 6]"
            ]
          },
          "metadata": {},
          "execution_count": 58
        }
      ]
    },
    {
      "cell_type": "code",
      "source": [
        "lista.insert(1, 100)  # [1, 100, 2, 3, 4, 5, 6] reemplazo el valor 1 es decir el segundo de la lista por 100\n",
        "lista"
      ],
      "metadata": {
        "colab": {
          "base_uri": "https://localhost:8080/"
        },
        "id": "Mg8prKC5mcOC",
        "outputId": "f4c9da6e-6b4b-4796-c243-18d150ebf051"
      },
      "execution_count": null,
      "outputs": [
        {
          "output_type": "execute_result",
          "data": {
            "text/plain": [
              "[1, 100, 2, 3, 4, 5, 6]"
            ]
          },
          "metadata": {},
          "execution_count": 59
        }
      ]
    },
    {
      "cell_type": "markdown",
      "source": [
        "#### 2. Eliminar elementos:\n",
        "\n",
        "* pop() -> Elimina y devuelve el último elemento (o de una posición específica).\n",
        "\n",
        "* remove() -> Elimina la primera aparición de un valor."
      ],
      "metadata": {
        "id": "gcQiAuy6m1CH"
      }
    },
    {
      "cell_type": "code",
      "source": [
        "lista.pop()  # 6, y la lista es ahora [1, 100, 2, 3, 4, 5] si no pongo nada elimina el y devuelve el ultimo que seria 6\n",
        "print(lista)\n",
        "lista.pop(1)  # 100, lista ahora [1, 2, 3, 4, 5] elimina el valor en la segunda posicion\n",
        "print(lista)"
      ],
      "metadata": {
        "colab": {
          "base_uri": "https://localhost:8080/"
        },
        "id": "4FPfnoCtoA_z",
        "outputId": "cd103c9e-09b5-422f-eedf-4eb5372134ef"
      },
      "execution_count": null,
      "outputs": [
        {
          "output_type": "stream",
          "name": "stdout",
          "text": [
            "[1, 100, 2, 3, 4, 5]\n",
            "[1, 2, 3, 4, 5]\n"
          ]
        }
      ]
    },
    {
      "cell_type": "code",
      "source": [
        "lista.remove(3)  # [1, 2, 4, 5] elimina el valor que sea = 3 no el 4 de la lista\n",
        "lista"
      ],
      "metadata": {
        "colab": {
          "base_uri": "https://localhost:8080/"
        },
        "id": "ayp-82aboJlT",
        "outputId": "0d9e8e99-5c44-42d4-c594-635df4df7716"
      },
      "execution_count": null,
      "outputs": [
        {
          "output_type": "execute_result",
          "data": {
            "text/plain": [
              "[1, 2, 4, 5]"
            ]
          },
          "metadata": {},
          "execution_count": 61
        }
      ]
    },
    {
      "cell_type": "markdown",
      "source": [
        "#### 3. Ordenar y revertir\n",
        "\n",
        "* sort() -> Ordena la lista en su lugar.\n",
        "* reverse() -> Invierte el orden de los elementos."
      ],
      "metadata": {
        "id": "igy2czSWoSBl"
      }
    },
    {
      "cell_type": "code",
      "source": [
        "lista = [5, 3, 1, 4, 2]\n",
        "lista.sort()  # [1, 2, 3, 4, 5]\n",
        "lista"
      ],
      "metadata": {
        "colab": {
          "base_uri": "https://localhost:8080/"
        },
        "id": "L8muH_gMof2f",
        "outputId": "327a47f6-f5da-4e15-c109-0612b5f62a39"
      },
      "execution_count": null,
      "outputs": [
        {
          "output_type": "execute_result",
          "data": {
            "text/plain": [
              "[1, 2, 3, 4, 5]"
            ]
          },
          "metadata": {},
          "execution_count": 62
        }
      ]
    },
    {
      "cell_type": "code",
      "source": [
        "lista.reverse()  # [5, 4, 3, 2, 1]\n",
        "lista"
      ],
      "metadata": {
        "colab": {
          "base_uri": "https://localhost:8080/"
        },
        "id": "Zc1hJ411ok0_",
        "outputId": "bca321b9-1ebe-4e93-e94d-757c28ebbc5e"
      },
      "execution_count": null,
      "outputs": [
        {
          "output_type": "execute_result",
          "data": {
            "text/plain": [
              "[5, 4, 3, 2, 1]"
            ]
          },
          "metadata": {},
          "execution_count": 63
        }
      ]
    },
    {
      "cell_type": "markdown",
      "source": [
        "#### 4. Operaciones comunes:\n",
        "\n",
        "* len() -> Devuelve el numero de elementos.\n",
        "* in -> Verifica si un elemento esta en la lista.\n",
        "* enumerate() -> Devuelve el indice y el valor de cada elemento (util en ciclos)."
      ],
      "metadata": {
        "id": "PcRoHpp6oqVm"
      }
    },
    {
      "cell_type": "code",
      "source": [
        "len(lista)  # 5 tamaño de la lista"
      ],
      "metadata": {
        "colab": {
          "base_uri": "https://localhost:8080/"
        },
        "id": "tJ1Udn5mooOQ",
        "outputId": "412ee558-b0fa-4839-dee9-26b672ac57ff"
      },
      "execution_count": null,
      "outputs": [
        {
          "output_type": "execute_result",
          "data": {
            "text/plain": [
              "5"
            ]
          },
          "metadata": {},
          "execution_count": 64
        }
      ]
    },
    {
      "cell_type": "code",
      "source": [
        "3 in lista  # True para chequear si el valor esta en la lista"
      ],
      "metadata": {
        "colab": {
          "base_uri": "https://localhost:8080/"
        },
        "id": "QqFubsPSpMSy",
        "outputId": "63cb8404-c84e-4233-c7f7-7d0b4c7401d3"
      },
      "execution_count": null,
      "outputs": [
        {
          "output_type": "execute_result",
          "data": {
            "text/plain": [
              "True"
            ]
          },
          "metadata": {},
          "execution_count": 65
        }
      ]
    },
    {
      "cell_type": "code",
      "source": [
        "for i, valor in enumerate(lista):\n",
        "    print(i, valor)"
      ],
      "metadata": {
        "colab": {
          "base_uri": "https://localhost:8080/"
        },
        "id": "YS4t5e3JpMPi",
        "outputId": "76f2f70a-6f39-4a6f-e198-5dfcf354e203"
      },
      "execution_count": null,
      "outputs": [
        {
          "output_type": "stream",
          "name": "stdout",
          "text": [
            "0 5\n",
            "1 4\n",
            "2 3\n",
            "3 2\n",
            "4 1\n"
          ]
        }
      ]
    },
    {
      "cell_type": "markdown",
      "source": [
        "### 3. Diccionarios"
      ],
      "metadata": {
        "id": "i3wnDF-ZpuzG"
      }
    },
    {
      "cell_type": "markdown",
      "source": [
        "#### 1. Acceso"
      ],
      "metadata": {
        "id": "gobnkJt3py4P"
      }
    },
    {
      "cell_type": "code",
      "source": [
        "diccionario = {\"nombre\": \"Carlos\", \"edad\": 30}\n",
        "nombre = diccionario[\"nombre\"]  # \"Carlos\"\n",
        "nombre"
      ],
      "metadata": {
        "colab": {
          "base_uri": "https://localhost:8080/",
          "height": 35
        },
        "id": "3cyq_rWTp5jw",
        "outputId": "70f67ee7-deca-4e42-ea7f-d4a7120f2bea"
      },
      "execution_count": null,
      "outputs": [
        {
          "output_type": "execute_result",
          "data": {
            "text/plain": [
              "'Carlos'"
            ],
            "application/vnd.google.colaboratory.intrinsic+json": {
              "type": "string"
            }
          },
          "metadata": {},
          "execution_count": 67
        }
      ]
    },
    {
      "cell_type": "code",
      "source": [
        "diccionario[\"ciudad\"] = \"Madrid\"  # {\"nombre\": \"Carlos\", \"edad\": 30, \"ciudad\": \"Madrid\"}"
      ],
      "metadata": {
        "id": "eNZMoldBqAii"
      },
      "execution_count": null,
      "outputs": []
    },
    {
      "cell_type": "markdown",
      "source": [
        "* get() -> Devuelve el valor de una clave, o un valor por defecto si no existe.\n",
        "\n"
      ],
      "metadata": {
        "id": "XDwY2_a6qJM1"
      }
    },
    {
      "cell_type": "code",
      "source": [
        "diccionario.get(\"profesion\", \"Desconocido\")  # \"Desconocido\" es como un coalese y asi me devuelve un valor por default en caso de no encontrar nada"
      ],
      "metadata": {
        "colab": {
          "base_uri": "https://localhost:8080/",
          "height": 35
        },
        "id": "hEpW0rgaqNix",
        "outputId": "32c69c71-7c83-4e05-ac18-7264121cbdde"
      },
      "execution_count": null,
      "outputs": [
        {
          "output_type": "execute_result",
          "data": {
            "text/plain": [
              "'Desconocido'"
            ],
            "application/vnd.google.colaboratory.intrinsic+json": {
              "type": "string"
            }
          },
          "metadata": {},
          "execution_count": 69
        }
      ]
    },
    {
      "cell_type": "markdown",
      "source": [
        "#### 2. Eliminar elementos\n",
        "\n",
        "*   pop() -> Elimina y devuelve el valor asociado a la clave.\n",
        "*   popitem() -> Elimina y devuelve el último par clave-valor.\n",
        "\n"
      ],
      "metadata": {
        "id": "nOClDGA-qNUg"
      }
    },
    {
      "cell_type": "code",
      "source": [],
      "metadata": {
        "id": "NKBJh29Hqb-5"
      },
      "execution_count": null,
      "outputs": []
    },
    {
      "cell_type": "markdown",
      "source": [
        "## 2. Operadores aritméticos, lógicos y de comparación"
      ],
      "metadata": {
        "id": "VGPycQt2OC9f"
      }
    },
    {
      "cell_type": "markdown",
      "source": [
        "Operadores:\n",
        "\n",
        "* Aritméticos: `+`, `-`, `*`, `/`, `//`, `%`, `**` (potencia).\n",
        "* Comparación: `==`, `!=`, `>`, `<`, `>=`, `<=`.\n",
        "* Lógicos: `and`, `or`, `not`."
      ],
      "metadata": {
        "id": "xmmQo3m2Qpzi"
      }
    },
    {
      "cell_type": "markdown",
      "source": [
        "#### Aritmeticos"
      ],
      "metadata": {
        "id": "nlJKQnDVS-7X"
      }
    },
    {
      "cell_type": "code",
      "source": [
        "# Suma\n",
        "resultado = 10 + 5\n",
        "print(resultado)  # Output: 15"
      ],
      "metadata": {
        "colab": {
          "base_uri": "https://localhost:8080/"
        },
        "id": "yFTjYT3XBfGk",
        "outputId": "3a428d24-fd41-464a-9dc3-3035fda60c8a"
      },
      "execution_count": null,
      "outputs": [
        {
          "output_type": "stream",
          "name": "stdout",
          "text": [
            "15\n"
          ]
        }
      ]
    },
    {
      "cell_type": "code",
      "source": [
        "# Resta\n",
        "resultado = 10 - 3\n",
        "print(resultado)  # Output: 7"
      ],
      "metadata": {
        "colab": {
          "base_uri": "https://localhost:8080/"
        },
        "id": "hDhFpseATFTq",
        "outputId": "58eaebd1-c64e-4c92-e561-f5f1e2d7c11a"
      },
      "execution_count": null,
      "outputs": [
        {
          "output_type": "stream",
          "name": "stdout",
          "text": [
            "7\n"
          ]
        }
      ]
    },
    {
      "cell_type": "code",
      "source": [
        "# Multiplicacion\n",
        "resultado = 10 * 3\n",
        "print(resultado)  # Output: 30"
      ],
      "metadata": {
        "colab": {
          "base_uri": "https://localhost:8080/"
        },
        "id": "8dWUZYEBTJaB",
        "outputId": "5d1013f5-1788-41b6-db5d-3f73600cf4f9"
      },
      "execution_count": null,
      "outputs": [
        {
          "output_type": "stream",
          "name": "stdout",
          "text": [
            "30\n"
          ]
        }
      ]
    },
    {
      "cell_type": "code",
      "source": [
        "# Division\n",
        "resultado = 10 / 3\n",
        "print(resultado)  # Output: 3.3333333333333335"
      ],
      "metadata": {
        "colab": {
          "base_uri": "https://localhost:8080/"
        },
        "id": "3BrekW9STNU_",
        "outputId": "1b73a184-3a54-4161-c68f-87b03a66f090"
      },
      "execution_count": null,
      "outputs": [
        {
          "output_type": "stream",
          "name": "stdout",
          "text": [
            "3.3333333333333335\n"
          ]
        }
      ]
    },
    {
      "cell_type": "code",
      "source": [
        "# Division entera\n",
        "resultado = 10 // 3\n",
        "print(resultado)  # Output: 3"
      ],
      "metadata": {
        "colab": {
          "base_uri": "https://localhost:8080/"
        },
        "id": "ZDhzU2ZMTQEg",
        "outputId": "fff69a92-bce0-4fe0-f96d-fccfbc2bf394"
      },
      "execution_count": null,
      "outputs": [
        {
          "output_type": "stream",
          "name": "stdout",
          "text": [
            "3\n"
          ]
        }
      ]
    },
    {
      "cell_type": "code",
      "source": [
        "# Modulo -> resto\n",
        "resultado = 11 % 2\n",
        "print(resultado)  # Output: 1"
      ],
      "metadata": {
        "colab": {
          "base_uri": "https://localhost:8080/"
        },
        "id": "ZWjN23scTX1V",
        "outputId": "51d6de40-3e71-47e5-e688-be28616b2390"
      },
      "execution_count": null,
      "outputs": [
        {
          "output_type": "stream",
          "name": "stdout",
          "text": [
            "1\n"
          ]
        }
      ]
    },
    {
      "cell_type": "code",
      "source": [
        "resultado = 2 ** 3\n",
        "print(resultado)  # Output: 8"
      ],
      "metadata": {
        "colab": {
          "base_uri": "https://localhost:8080/"
        },
        "id": "tNoVEL6vTdn8",
        "outputId": "ec6a8724-a95f-44fb-fa82-2fe84968554b"
      },
      "execution_count": null,
      "outputs": [
        {
          "output_type": "stream",
          "name": "stdout",
          "text": [
            "8\n"
          ]
        }
      ]
    },
    {
      "cell_type": "markdown",
      "source": [
        "### Comparacion"
      ],
      "metadata": {
        "id": "y6vFUcoBTnuW"
      }
    },
    {
      "cell_type": "code",
      "source": [
        "# Igualdad\n",
        "resultado = 5 == 5\n",
        "print(resultado)  # Output: True"
      ],
      "metadata": {
        "colab": {
          "base_uri": "https://localhost:8080/"
        },
        "id": "Obtlj2GVTjvS",
        "outputId": "d07a5da6-3972-4b23-bf9c-9f68c6cf0d22"
      },
      "execution_count": null,
      "outputs": [
        {
          "output_type": "stream",
          "name": "stdout",
          "text": [
            "True\n"
          ]
        }
      ]
    },
    {
      "cell_type": "code",
      "source": [
        "# Desigualdad\n",
        "resultado = 5 != 3\n",
        "print(resultado)  # Output: True"
      ],
      "metadata": {
        "colab": {
          "base_uri": "https://localhost:8080/"
        },
        "id": "xRoJ9QmUTvPs",
        "outputId": "e55ce97a-feb8-485a-f319-202f4f1ee93d"
      },
      "execution_count": null,
      "outputs": [
        {
          "output_type": "stream",
          "name": "stdout",
          "text": [
            "True\n"
          ]
        }
      ]
    },
    {
      "cell_type": "code",
      "source": [
        "# Mayor que / Mayor e igual que\n",
        "resultado = 10 > 5\n",
        "print(resultado)  # Output: True\n",
        "\n",
        "resultado = 10 >= 10\n",
        "print(resultado)  # Output: True"
      ],
      "metadata": {
        "colab": {
          "base_uri": "https://localhost:8080/"
        },
        "id": "a-eMj63JX4sW",
        "outputId": "3c2cabcb-16a5-4371-8068-f7d51cef2975"
      },
      "execution_count": null,
      "outputs": [
        {
          "output_type": "stream",
          "name": "stdout",
          "text": [
            "True\n",
            "True\n"
          ]
        }
      ]
    },
    {
      "cell_type": "code",
      "source": [
        "# Menor que / Menor e igual que\n",
        "resultado = 3 < 5\n",
        "print(resultado)  # Output: True\n",
        "\n",
        "resultado = 3 <= 3\n",
        "print(resultado)  # Output: True"
      ],
      "metadata": {
        "colab": {
          "base_uri": "https://localhost:8080/"
        },
        "id": "HtR95BHiX_2e",
        "outputId": "302adc2d-3ab5-4a0c-b8bc-6745205baa91"
      },
      "execution_count": null,
      "outputs": [
        {
          "output_type": "stream",
          "name": "stdout",
          "text": [
            "True\n",
            "True\n"
          ]
        }
      ]
    },
    {
      "cell_type": "markdown",
      "source": [
        "### Operadores logicos\n",
        "\n",
        "Estos operadores permiten combinar múltiples condiciones para devolver un resultado booleano (True o False).\n",
        "\n"
      ],
      "metadata": {
        "id": "IGAxDOaKYQyo"
      }
    },
    {
      "cell_type": "markdown",
      "source": [
        "1. `and` (Y logico): Solo devuelve True si ambas condiciones son verdaderas"
      ],
      "metadata": {
        "id": "SV09shdrYX_K"
      }
    },
    {
      "cell_type": "code",
      "source": [
        "resultado = (5 > 2) and (3 < 5)\n",
        "print(resultado)  # Output: True solo si ambas condiciones son verdaderas devuelve true"
      ],
      "metadata": {
        "colab": {
          "base_uri": "https://localhost:8080/"
        },
        "id": "Ugs1tnnzYM1q",
        "outputId": "81cfd54a-d798-4bb6-86e2-60a28a7e4879"
      },
      "execution_count": null,
      "outputs": [
        {
          "output_type": "stream",
          "name": "stdout",
          "text": [
            "True\n"
          ]
        }
      ]
    },
    {
      "cell_type": "markdown",
      "source": [
        "2. `or` (O logico): Devuelve True si una o ambas condiciones son verdaderas."
      ],
      "metadata": {
        "id": "8Wwyd120Y2zm"
      }
    },
    {
      "cell_type": "code",
      "source": [
        "resultado = (5 > 2) or (3 > 5)\n",
        "print(resultado)  # Output: True . Solo una de las comparaciones debe ser verdad"
      ],
      "metadata": {
        "colab": {
          "base_uri": "https://localhost:8080/"
        },
        "id": "s0H2JQwpYxAD",
        "outputId": "8dd68376-4ce6-4415-8b20-4b02ab7c431a"
      },
      "execution_count": null,
      "outputs": [
        {
          "output_type": "stream",
          "name": "stdout",
          "text": [
            "True\n"
          ]
        }
      ]
    },
    {
      "cell_type": "markdown",
      "source": [
        "3. `not` (Negación lógica): Invierte el valor lógico. Si la expresión es True, la convierte en False, y viceversa."
      ],
      "metadata": {
        "id": "v4ULBNqrZCLz"
      }
    },
    {
      "cell_type": "code",
      "source": [
        "resultado = not (5 > 2)\n",
        "print(resultado)  # Output: False . como tiene un not me niega la condicion logica, es como un  - - y pasa a ser +"
      ],
      "metadata": {
        "colab": {
          "base_uri": "https://localhost:8080/"
        },
        "id": "Cc9iNP6nY8TI",
        "outputId": "786eef1b-6820-4fba-a431-20ef3d3872bd"
      },
      "execution_count": null,
      "outputs": [
        {
          "output_type": "stream",
          "name": "stdout",
          "text": [
            "False\n"
          ]
        }
      ]
    },
    {
      "cell_type": "markdown",
      "source": [
        "### Ejercicio: Combinando Operadores Aritméticos, de Comparación y Lógicos"
      ],
      "metadata": {
        "id": "q9pzx6BYZV_6"
      }
    },
    {
      "cell_type": "code",
      "source": [
        "edad = int(input(\"Ingresa tu edad: \"))\n",
        "\n",
        "# Condiciones:\n",
        "es_mayor_de_18 = edad > 18\n",
        "es_edad_impar = edad % 2 != 0\n",
        "\n",
        "# Combinamos ambas condiciones usando el operador `and`\n",
        "resultado = es_mayor_de_18 and es_edad_impar\n",
        "\n",
        "print(f\"Es mayor de 18 y su edad es impar: {resultado}\")"
      ],
      "metadata": {
        "colab": {
          "base_uri": "https://localhost:8080/"
        },
        "id": "5ouvIlDAZIaK",
        "outputId": "76f8be25-609e-4875-9717-735866de7616"
      },
      "execution_count": null,
      "outputs": [
        {
          "output_type": "stream",
          "name": "stdout",
          "text": [
            "Ingresa tu edad: 30\n",
            "Es mayor de 18 y su edad es impar: False\n"
          ]
        }
      ]
    },
    {
      "cell_type": "markdown",
      "source": [
        "## 3. Estructuras de control de flujo (if, elif, else)"
      ],
      "metadata": {
        "id": "K7iXJJSsc9hc"
      }
    },
    {
      "cell_type": "markdown",
      "source": [
        "### 1. Estructura `if`\n",
        "\n",
        "La estructura `if` permite ejecutar un bloque de código solo si una condición es verdadera"
      ],
      "metadata": {
        "id": "k4LXvNRLdOQL"
      }
    },
    {
      "cell_type": "code",
      "source": [
        "edad = 18\n",
        "if edad >= 18:\n",
        "    print(\"Soy mayor de edad.\")"
      ],
      "metadata": {
        "colab": {
          "base_uri": "https://localhost:8080/"
        },
        "id": "ioeHJEOvZR6B",
        "outputId": "e5d30c18-9cd1-41be-ad4c-e095129c85f3"
      },
      "execution_count": null,
      "outputs": [
        {
          "output_type": "stream",
          "name": "stdout",
          "text": [
            "Soy mayor de edad.\n"
          ]
        }
      ]
    },
    {
      "cell_type": "markdown",
      "source": [
        "### 2. Estructura `else`\n",
        "La estructura `else` permite ejecutar un bloque de código cuando la condición de if es False."
      ],
      "metadata": {
        "id": "SH4CEITCdnJI"
      }
    },
    {
      "cell_type": "code",
      "source": [
        "edad = 16\n",
        "if edad >= 18:\n",
        "    print(\"Soy mayor de edad.\")\n",
        "else:\n",
        "    print(\"Soy menor de edad.\")"
      ],
      "metadata": {
        "colab": {
          "base_uri": "https://localhost:8080/"
        },
        "id": "9HiTM03odeIf",
        "outputId": "b5ed358d-8b94-4ce0-e024-b38d0e3fcb80"
      },
      "execution_count": null,
      "outputs": [
        {
          "output_type": "stream",
          "name": "stdout",
          "text": [
            "Soy menor de edad.\n"
          ]
        }
      ]
    },
    {
      "cell_type": "markdown",
      "source": [
        "#### **NOTA**! `else` no lleva ninguna condición, simplemente captura todos los casos en los que if es False."
      ],
      "metadata": {
        "id": "i1_VWDSDd2u0"
      }
    },
    {
      "cell_type": "markdown",
      "source": [
        "### 3. Estructura elif\n",
        "\n",
        "`elif` (abreviatura de \"else if\") permite agregar condiciones adicionales si la primera condición de if es False."
      ],
      "metadata": {
        "id": "22eARdfLeA0f"
      }
    },
    {
      "cell_type": "code",
      "source": [
        "# elif = intermedio entre el if y else para agregar más condiciones\n",
        "\n",
        "monoglobina = 0.9\n",
        "\n",
        "if monoglobina < 0.5:\n",
        "    print(\"Monoglobina baja\")\n",
        "elif monoglobina < 0.6:\n",
        "    print(\"Monoglobina media\")\n",
        "else:\n",
        "    print(\"Monoglobina alta\")"
      ],
      "metadata": {
        "colab": {
          "base_uri": "https://localhost:8080/"
        },
        "id": "PCxj8VyUdvBl",
        "outputId": "7afda0ef-ce56-4518-eda8-5342b87f759c"
      },
      "execution_count": 6,
      "outputs": [
        {
          "output_type": "stream",
          "name": "stdout",
          "text": [
            "Monoglobina alta\n"
          ]
        }
      ]
    },
    {
      "cell_type": "markdown",
      "source": [
        "### 4. Condiciones anidadas\n",
        "\n",
        "También puedes anidar estructuras `if`, `elif`, y `else` dentro de otras."
      ],
      "metadata": {
        "id": "XauPoSFhejNR"
      }
    },
    {
      "cell_type": "code",
      "source": [
        "datascientist_ = True\n",
        "senior_ = False # True\n",
        "\n",
        "if datascientist_:\n",
        "    if senior_:\n",
        "        print(\"Puede dar entrevistas\")\n",
        "    else:\n",
        "        print(\"No puede dar entrevistas, necesita un Senior que lo acompanie\")\n",
        "else:\n",
        "    print(\"No puede dar entrevistas para el puesto de datascientist\")"
      ],
      "metadata": {
        "colab": {
          "base_uri": "https://localhost:8080/"
        },
        "id": "qiTThw12eZf5",
        "outputId": "84914cec-a091-4a98-9351-e15b80256e69"
      },
      "execution_count": 7,
      "outputs": [
        {
          "output_type": "stream",
          "name": "stdout",
          "text": [
            "No puede dar entrevistas, necesita un Senior que lo acompanie\n"
          ]
        }
      ]
    },
    {
      "cell_type": "markdown",
      "source": [
        "## 4. Ciclos (`for`, `while`)"
      ],
      "metadata": {
        "id": "VsVuWzVlsJ1a"
      }
    },
    {
      "cell_type": "markdown",
      "source": [
        "## Ciclo `for`"
      ],
      "metadata": {
        "id": "WylUqpOzvOfE"
      }
    },
    {
      "cell_type": "markdown",
      "source": [
        "El ciclo `for` en Python se usa para iterar sobre una secuencia (lista, cadena de texto, tuplas, diccionarios, etc.) o sobre un rango de números. La característica más notable del ciclo for es que la cantidad de iteraciones está determinada desde el principio, es decir, se ejecuta un número específico de veces."
      ],
      "metadata": {
        "id": "CIcEu27WsTFA"
      }
    },
    {
      "cell_type": "markdown",
      "source": [
        "\n",
        "\n",
        "```\n",
        "for elemento in secuencia:\n",
        "    # Código que se ejecutará en cada iteración\n",
        "```\n",
        "\n"
      ],
      "metadata": {
        "id": "-7V80uMMsYGC"
      }
    },
    {
      "cell_type": "code",
      "source": [
        "# Uso basico del for . NO se el numero de iteraciones que quiero hacer. Asi es más facil hacer tareas repetitivas\n",
        "frutas = [\"manzana\", \"banana\", \"frutilla\"]\n",
        "\n",
        "for pin in frutas:\n",
        "    print(f\"Me gusta comer {pin}\")"
      ],
      "metadata": {
        "colab": {
          "base_uri": "https://localhost:8080/"
        },
        "id": "oCxzfwZVfPKT",
        "outputId": "73608471-b541-4f46-a674-d25897992020"
      },
      "execution_count": 8,
      "outputs": [
        {
          "output_type": "stream",
          "name": "stdout",
          "text": [
            "Me gusta comer manzana\n",
            "Me gusta comer banana\n",
            "Me gusta comer frutilla\n"
          ]
        }
      ]
    },
    {
      "cell_type": "code",
      "source": [
        "# esta es otra manera de hacerlo pero es mucho mas largo y no es elcalable\n",
        "print(f\"Me gusta comer {frutas[0]}\")\n",
        "print(f\"Me gusta comer {frutas[1]}\")\n",
        "print(f\"Me gusta comer {frutas[2]}\")"
      ],
      "metadata": {
        "colab": {
          "base_uri": "https://localhost:8080/"
        },
        "id": "-8ycNpQ-nCfn",
        "outputId": "9e5160d7-5347-4c81-caed-52f3417da456"
      },
      "execution_count": null,
      "outputs": [
        {
          "output_type": "stream",
          "name": "stdout",
          "text": [
            "Me gusta comer manzana\n",
            "Me gusta comer banana\n",
            "Me gusta comer frutilla\n"
          ]
        }
      ]
    },
    {
      "cell_type": "markdown",
      "source": [
        "### 1. Uso de `range()` en for\n",
        "\n",
        "Cuando no se trata de una secuencia predefinida (como una lista), el ciclo for también puede usarse para iterar un número determinado de veces usando range()."
      ],
      "metadata": {
        "id": "KN1QYOEus4Bw"
      }
    },
    {
      "cell_type": "markdown",
      "source": [
        "range(start, end, step)"
      ],
      "metadata": {
        "id": "EwWrzHHHtSXF"
      }
    },
    {
      "cell_type": "code",
      "source": [
        "#range es cuando se cuantas iteraciones quiero hacer. permite pasar 3 parametros cuando comienza, termina y en que direccion y cuanto\n",
        "for i in range(5):\n",
        "    print(f\"Esta es la iteración número {i}\") # 5 iteraciones"
      ],
      "metadata": {
        "colab": {
          "base_uri": "https://localhost:8080/"
        },
        "id": "Cl5I95X9smoW",
        "outputId": "9446cc8e-433d-4991-825e-f561d08440d0"
      },
      "execution_count": 9,
      "outputs": [
        {
          "output_type": "stream",
          "name": "stdout",
          "text": [
            "Esta es la iteración número 0\n",
            "Esta es la iteración número 1\n",
            "Esta es la iteración número 2\n",
            "Esta es la iteración número 3\n",
            "Esta es la iteración número 4\n"
          ]
        }
      ]
    },
    {
      "cell_type": "markdown",
      "source": [
        "### Contar hacia atras? como?"
      ],
      "metadata": {
        "id": "Fzwnz9xm1E3G"
      }
    },
    {
      "cell_type": "code",
      "source": [
        "for i in range(2, 6):\n",
        "    print(f\"Esta es la iteración número {i}\")"
      ],
      "metadata": {
        "colab": {
          "base_uri": "https://localhost:8080/"
        },
        "id": "5QzNrtUJoAF_",
        "outputId": "4a723775-a041-4760-e27d-f8c858f5facc"
      },
      "execution_count": null,
      "outputs": [
        {
          "output_type": "stream",
          "name": "stdout",
          "text": [
            "Esta es la iteración número 2\n",
            "Esta es la iteración número 4\n"
          ]
        }
      ]
    },
    {
      "cell_type": "code",
      "source": [
        "for i in range(10, 0, -1): # como tengo -1 significa que va de atras hacia adelante\n",
        "    print(i)"
      ],
      "metadata": {
        "colab": {
          "base_uri": "https://localhost:8080/"
        },
        "id": "HZWke8Fg1I9C",
        "outputId": "4cab02d8-a98b-4af0-b415-e45eea4a7007"
      },
      "execution_count": null,
      "outputs": [
        {
          "output_type": "stream",
          "name": "stdout",
          "text": [
            "10\n",
            "9\n",
            "8\n",
            "7\n",
            "6\n",
            "5\n",
            "4\n",
            "3\n",
            "2\n",
            "1\n"
          ]
        }
      ]
    },
    {
      "cell_type": "markdown",
      "source": [
        "#### Parámetros de range():\n",
        "* range(5) → Genera los números 0, 1, 2, 3, 4.\n",
        "* range(1, 6) → Genera los números 1, 2, 3, 4, 5 (el límite superior no se incluye).\n",
        "* range(1, 10, 2) → Genera los números 1, 3, 5, 7, 9 (el tercer parámetro es el paso, es decir, el incremento entre cada valor).\n"
      ],
      "metadata": {
        "id": "tmBXVGTrtrjS"
      }
    },
    {
      "cell_type": "markdown",
      "source": [
        "\n",
        "### Iterar sobre una cadena de texto"
      ],
      "metadata": {
        "id": "Sci5hZeM0cly"
      }
    },
    {
      "cell_type": "code",
      "source": [
        "palabra = \"python\"\n",
        "\n",
        "for letra in palabra:\n",
        "    print(f\"Letra: {letra}\")"
      ],
      "metadata": {
        "colab": {
          "base_uri": "https://localhost:8080/"
        },
        "id": "5yIZ_qSK0o9P",
        "outputId": "fe9c68ef-21fe-40f2-ddee-4eb729769488"
      },
      "execution_count": null,
      "outputs": [
        {
          "output_type": "stream",
          "name": "stdout",
          "text": [
            "Letra: p\n",
            "Letra: y\n",
            "Letra: t\n",
            "Letra: h\n",
            "Letra: o\n",
            "Letra: n\n"
          ]
        }
      ]
    },
    {
      "cell_type": "markdown",
      "source": [
        "### Iterar sobre un diccionario"
      ],
      "metadata": {
        "id": "aZn1CTQK0oRQ"
      }
    },
    {
      "cell_type": "code",
      "source": [
        "edades = {\"Ana\": 25, \"Carlos\": 30, \"Pedro\": 22}\n",
        "\n",
        "# Iterando sobre claves\n",
        "for nombre in edades.keys():\n",
        "    print(f\"Nombre: {nombre}\")\n",
        "\n",
        "# Iterando sobre valores\n",
        "for edad in edades.values():\n",
        "    print(f\"Edad: {edad}\")\n",
        "\n",
        "# Iterando sobre pares clave-valor\n",
        "for nombre, edad in edades.items(): # [(ana, 25), (carlos, 30), ...]\n",
        "    print(f\"{nombre} tiene {edad} años\")"
      ],
      "metadata": {
        "colab": {
          "base_uri": "https://localhost:8080/"
        },
        "id": "aiorw85L0zBQ",
        "outputId": "88c68efd-26eb-4552-edb5-c27e6c76cc6a"
      },
      "execution_count": null,
      "outputs": [
        {
          "output_type": "stream",
          "name": "stdout",
          "text": [
            "Nombre: Ana\n",
            "Nombre: Carlos\n",
            "Nombre: Pedro\n",
            "Edad: 25\n",
            "Edad: 30\n",
            "Edad: 22\n",
            "Ana tiene 25 años\n",
            "Carlos tiene 30 años\n",
            "Pedro tiene 22 años\n"
          ]
        }
      ]
    },
    {
      "cell_type": "markdown",
      "source": [
        "### El ciclo for puede iterar sobre diferentes componentes de un diccionario:\n",
        "* Solo las claves (edades.keys()).\n",
        "* Solo los valores (edades.values()).\n",
        "* O ambas (edades.items())."
      ],
      "metadata": {
        "id": "6d94soyo05G9"
      }
    },
    {
      "cell_type": "markdown",
      "source": [
        "### 2. Anidación de ciclos for"
      ],
      "metadata": {
        "id": "KwHFG4bQt9do"
      }
    },
    {
      "cell_type": "markdown",
      "source": [
        "Puedes anidar un ciclo for dentro de otro para realizar operaciones en \"2D\" o recorrer listas de listas."
      ],
      "metadata": {
        "id": "OTbJQTDhuDXd"
      }
    },
    {
      "cell_type": "code",
      "source": [
        "matriz = [\n",
        "    [1, 2, 3],\n",
        "    [4, 5, 6],\n",
        "    [7, 8, 9]\n",
        "]\n",
        "\n",
        "for fila in matriz:\n",
        "    for elemento in fila:\n",
        "        print(elemento, end=\" \")\n",
        "    print(\" \")  # Salto de línea después de cada fila"
      ],
      "metadata": {
        "colab": {
          "base_uri": "https://localhost:8080/"
        },
        "id": "Lwds6X6atLnb",
        "outputId": "cc16c503-5dff-4074-982a-63f21be8f5c4"
      },
      "execution_count": null,
      "outputs": [
        {
          "output_type": "stream",
          "name": "stdout",
          "text": [
            "1 2 3  \n",
            "4 5 6  \n",
            "7 8 9  \n"
          ]
        }
      ]
    },
    {
      "cell_type": "markdown",
      "source": [
        "## Ciclo `while`"
      ],
      "metadata": {
        "id": "jby_GWUpvUF5"
      }
    },
    {
      "cell_type": "markdown",
      "source": [
        "El ciclo `while` ejecuta un bloque de código mientras una condición sea verdadera. A diferencia del ciclo for, en el que la cantidad de iteraciones está predeterminada, el ciclo while depende de una condición que puede cambiar dentro del ciclo.\n",
        "\n",
        "\n",
        "\n",
        "```\n",
        "while condición:\n",
        "    # Código a ejecutar mientras la condición sea True\n",
        "```\n",
        "\n"
      ],
      "metadata": {
        "id": "z7al-Fr4vad-"
      }
    },
    {
      "cell_type": "markdown",
      "source": [
        "Explicación: El ciclo sigue ejecutándose mientras la condición sea verdadera. Cuando la condición es False, el ciclo termina."
      ],
      "metadata": {
        "id": "Og9AfcpnvleU"
      }
    },
    {
      "cell_type": "code",
      "source": [
        "contador = 1\n",
        "\n",
        "while contador < 5:\n",
        "    print(f\"Contador: {contador}\")\n",
        "    contador = contador + 1  # Incrementamos el contador en 1"
      ],
      "metadata": {
        "colab": {
          "base_uri": "https://localhost:8080/"
        },
        "id": "F03FGAJWuOx5",
        "outputId": "a665f45e-7c69-4a9b-cc96-8710d7cc7186"
      },
      "execution_count": null,
      "outputs": [
        {
          "output_type": "stream",
          "name": "stdout",
          "text": [
            "Contador: 1\n",
            "Contador: 2\n",
            "Contador: 3\n",
            "Contador: 4\n"
          ]
        }
      ]
    },
    {
      "cell_type": "markdown",
      "source": [
        "### 1. Uso de while con entrada del usuario"
      ],
      "metadata": {
        "id": "cBBaS6Gbv189"
      }
    },
    {
      "cell_type": "markdown",
      "source": [
        "El ciclo `while` es muy útil cuando no sabes cuántas veces necesitarás repetir una acción, por ejemplo, cuando esperas una entrada válida del usuario.\n",
        "\n"
      ],
      "metadata": {
        "id": "g1sd02h6v3Vh"
      }
    },
    {
      "cell_type": "code",
      "source": [
        "respuesta = \"\"\n",
        "\n",
        "while respuesta.lower() != \"salir\":\n",
        "    respuesta = input(\"Escribe algo (escribe 'salir' para terminar): \")\n",
        "    print(f\"Has escrito: {respuesta}\")"
      ],
      "metadata": {
        "colab": {
          "base_uri": "https://localhost:8080/"
        },
        "id": "WflkI8Pwvqih",
        "outputId": "da00bc23-473a-4c30-fc54-991e8f7cd305"
      },
      "execution_count": null,
      "outputs": [
        {
          "output_type": "stream",
          "name": "stdout",
          "text": [
            "Escribe algo (escribe 'salir' para terminar): f\n",
            "Has escrito: f\n",
            "Escribe algo (escribe 'salir' para terminar): f\n",
            "Has escrito: f\n",
            "Escribe algo (escribe 'salir' para terminar): g\n",
            "Has escrito: g\n",
            "Escribe algo (escribe 'salir' para terminar): d\n",
            "Has escrito: d\n",
            "Escribe algo (escribe 'salir' para terminar): h\n",
            "Has escrito: h\n",
            "Escribe algo (escribe 'salir' para terminar): j\n",
            "Has escrito: j\n",
            "Escribe algo (escribe 'salir' para terminar): d\n",
            "Has escrito: d\n",
            "Escribe algo (escribe 'salir' para terminar): r\n",
            "Has escrito: r\n",
            "Escribe algo (escribe 'salir' para terminar): salir\n",
            "Has escrito: salir\n"
          ]
        }
      ]
    },
    {
      "cell_type": "markdown",
      "source": [
        "### Control de ciclos con break y continue\n",
        "\n",
        "* `break`: Detiene el ciclo inmediatamente, sin importar si la condición sigue siendo verdadera.\n",
        "* `continue`: Salta el resto del ciclo actual y continúa con la siguiente iteración."
      ],
      "metadata": {
        "id": "hnuHu-QrxZ38"
      }
    },
    {
      "cell_type": "code",
      "source": [
        "# Ejemplo del break\n",
        "for i in range(10):\n",
        "    if i == 5:\n",
        "        break  # Se detiene el ciclo cuando i es 5\n",
        "    print(i)"
      ],
      "metadata": {
        "colab": {
          "base_uri": "https://localhost:8080/"
        },
        "id": "ElWYZiZwv0Gn",
        "outputId": "4569b4fb-0a95-427b-b549-490c40e7596a"
      },
      "execution_count": null,
      "outputs": [
        {
          "output_type": "stream",
          "name": "stdout",
          "text": [
            "0\n",
            "1\n",
            "2\n",
            "3\n",
            "4\n"
          ]
        }
      ]
    },
    {
      "cell_type": "code",
      "source": [
        "# Ejemplo del contine\n",
        "for i in range(10):\n",
        "    if i % 2 != 0:\n",
        "        break  # Salta los números pares\n",
        "    print(i)"
      ],
      "metadata": {
        "colab": {
          "base_uri": "https://localhost:8080/"
        },
        "id": "9XbNmsBKxqJN",
        "outputId": "ec872d88-2699-467b-f395-40244425fffa"
      },
      "execution_count": null,
      "outputs": [
        {
          "output_type": "stream",
          "name": "stdout",
          "text": [
            "0\n"
          ]
        }
      ]
    },
    {
      "cell_type": "markdown",
      "source": [
        "## Comparación de `for` y `while`\n",
        "\n",
        "* Ciclo for: Ideal para cuando conoces de antemano cuántas veces quieres iterar (por ejemplo, sobre una lista o un rango de números).\n",
        "* Ciclo while: Más adecuado cuando no sabes cuántas veces se repetirá el ciclo, ya que depende de una condición que puede cambiar en cualquier momento."
      ],
      "metadata": {
        "id": "5Xy1jDF3yoKL"
      }
    },
    {
      "cell_type": "markdown",
      "source": [
        "## Bonus tip\n",
        "\n",
        "### Enumerate & Zip"
      ],
      "metadata": {
        "id": "OBQMluGg2302"
      }
    },
    {
      "cell_type": "markdown",
      "source": [
        "### Uso de enumerate() en ciclos for"
      ],
      "metadata": {
        "id": "WenJUSnz3A74"
      }
    },
    {
      "cell_type": "markdown",
      "source": [
        "Cuando necesitas acceder tanto al índice como al valor de una lista o secuencia, la función `enumerate()` es la herramienta ideal. En lugar de gestionar el índice manualmente, `enumerate()` genera tanto el índice como el valor simultáneamente, lo que hace el código más legible y eficiente."
      ],
      "metadata": {
        "id": "aLSdRl9X3KOV"
      }
    },
    {
      "cell_type": "code",
      "source": [
        "colores = [\"rojo\", \"verde\", \"azul\"]\n",
        "\n",
        "for indice, color in enumerate(colores):\n",
        "    print(f\"El color en la posición {indice} es {color}\")"
      ],
      "metadata": {
        "colab": {
          "base_uri": "https://localhost:8080/"
        },
        "id": "6ua_GnyDxxLD",
        "outputId": "523d6479-0c02-4595-c8d7-551ad5be1280"
      },
      "execution_count": null,
      "outputs": [
        {
          "output_type": "stream",
          "name": "stdout",
          "text": [
            "El color en la posición 0 es rojo\n",
            "El color en la posición 1 es verde\n",
            "El color en la posición 2 es azul\n"
          ]
        }
      ]
    },
    {
      "cell_type": "code",
      "source": [
        "colores = [\"rojo\", \"verde\", \"azul\"]\n",
        "\n",
        "for indice, color in enumerate(colores, start=1):\n",
        "    print(f\"El color en la posición {indice} es {color}\")"
      ],
      "metadata": {
        "colab": {
          "base_uri": "https://localhost:8080/"
        },
        "id": "3rvV4XaW3SGR",
        "outputId": "8d641466-c63b-4982-ad9f-17460584e634"
      },
      "execution_count": null,
      "outputs": [
        {
          "output_type": "stream",
          "name": "stdout",
          "text": [
            "El color en la posición 1 es rojo\n",
            "El color en la posición 2 es verde\n",
            "El color en la posición 3 es azul\n"
          ]
        }
      ]
    },
    {
      "cell_type": "markdown",
      "source": [
        "### Uso de zip() para iterar sobre múltiples secuencias"
      ],
      "metadata": {
        "id": "EKzuBwDm3dUl"
      }
    },
    {
      "cell_type": "markdown",
      "source": [
        "La función `zip()` permite iterar sobre dos o más secuencias simultáneamente, emparejando elementos de cada una en tuplas. Esto es útil cuando tienes varias listas relacionadas y necesitas procesarlas juntas."
      ],
      "metadata": {
        "id": "Fxgkd8P53kaG"
      }
    },
    {
      "cell_type": "code",
      "source": [
        "nombres = [\"Ana\", \"Carlos\", \"Pedro\"]\n",
        "edades = [25, 30, 22]\n",
        "\n",
        "for nombre, edad in zip(nombres, edades):\n",
        "    print(f\"{nombre} tiene {edad} años\")"
      ],
      "metadata": {
        "colab": {
          "base_uri": "https://localhost:8080/"
        },
        "id": "aQATYnHU3c7k",
        "outputId": "82ed9693-a196-4af4-cbae-88d2a12f65d6"
      },
      "execution_count": null,
      "outputs": [
        {
          "output_type": "stream",
          "name": "stdout",
          "text": [
            "Ana tiene 25 años\n",
            "Carlos tiene 30 años\n",
            "Pedro tiene 22 años\n"
          ]
        }
      ]
    },
    {
      "cell_type": "code",
      "source": [
        "nombres = [\"Ana\", \"Carlos\", \"Pedro\"]\n",
        "edades = [25, 30, 22]\n",
        "ciudades = [\"Madrid\", \"Barcelona\", \"Sevilla\"]\n",
        "\n",
        "for nombre, edad, ciudad in zip(nombres, edades, ciudades):\n",
        "    print(f\"{nombre}, de {ciudad}, tiene {edad} años\")"
      ],
      "metadata": {
        "colab": {
          "base_uri": "https://localhost:8080/"
        },
        "id": "pfAI_wrW3Urs",
        "outputId": "37f1c9ac-b807-4297-b56e-fdcea3b87e48"
      },
      "execution_count": null,
      "outputs": [
        {
          "output_type": "stream",
          "name": "stdout",
          "text": [
            "Ana, de Madrid, tiene 25 años\n",
            "Carlos, de Barcelona, tiene 30 años\n",
            "Pedro, de Sevilla, tiene 22 años\n"
          ]
        }
      ]
    },
    {
      "cell_type": "markdown",
      "source": [
        "### Uso de `else` en ciclos `for` y `while`"
      ],
      "metadata": {
        "id": "Nqumvgqc4CVT"
      }
    },
    {
      "cell_type": "code",
      "source": [
        "numeros = [1, 2, 3, 4, 5]\n",
        "\n",
        "for numero in numeros:\n",
        "    if numero == 10:\n",
        "        print(\"¡Número encontrado!\")\n",
        "        break\n",
        "else:\n",
        "    print(\"No se encontró el número 10.\")"
      ],
      "metadata": {
        "colab": {
          "base_uri": "https://localhost:8080/"
        },
        "id": "HItghTL43zQy",
        "outputId": "9224db24-935d-4ca2-fafa-042dc0c6efac"
      },
      "execution_count": null,
      "outputs": [
        {
          "output_type": "stream",
          "name": "stdout",
          "text": [
            "No se encontró el número 10.\n"
          ]
        }
      ]
    },
    {
      "cell_type": "code",
      "source": [
        "contador = 0\n",
        "\n",
        "while contador < 5:\n",
        "    contador += 1\n",
        "    if contador == 6:\n",
        "        break\n",
        "else:\n",
        "    print(\"Ciclo completado sin interrupción.\")"
      ],
      "metadata": {
        "colab": {
          "base_uri": "https://localhost:8080/"
        },
        "id": "TV_aGKxE4Iwr",
        "outputId": "9a9804ed-b1ad-432b-889d-73d01c81e2e9"
      },
      "execution_count": null,
      "outputs": [
        {
          "output_type": "stream",
          "name": "stdout",
          "text": [
            "Ciclo completado sin interrupción.\n"
          ]
        }
      ]
    },
    {
      "cell_type": "markdown",
      "source": [
        "## 5. Funciones básicas y cómo definirlas en Python\n",
        "\n",
        "Las funciones permiten encapsular bloques de código para que se puedan reutilizar de manera eficiente. Nos permiten estructurar mejor el código, hacerlo más legible y evitar la repetición.\n"
      ],
      "metadata": {
        "id": "bqjdh7n8nZEz"
      }
    },
    {
      "cell_type": "markdown",
      "source": [
        "### 1. Definicion de una funcion en Python\n",
        "\n",
        "Se usa la plabra clave `def` seguido del nombre de la funcion, un conjunto de parentesis `()` y dos puntos `:`."
      ],
      "metadata": {
        "id": "4kM4giRNoFMf"
      }
    },
    {
      "cell_type": "code",
      "source": [
        "def nombre_funcion():\n",
        "    # cuerpo de la función\n",
        "    print(\"Esto es el cuerpo de la funcion\")\n",
        "\n",
        "nombre_funcion()"
      ],
      "metadata": {
        "colab": {
          "base_uri": "https://localhost:8080/"
        },
        "id": "R9yPp2xv4UeM",
        "outputId": "f0de5528-e82a-4019-e517-94bece87e5d2"
      },
      "execution_count": null,
      "outputs": [
        {
          "output_type": "stream",
          "name": "stdout",
          "text": [
            "Esto es el cuerpo de la funcion\n"
          ]
        }
      ]
    },
    {
      "cell_type": "markdown",
      "source": [
        "### 2. Funciones con parametros\n",
        "\n",
        "Una función puede aceptar uno o más parámetros, que son valores que se pasan a la función cuando se llama. Esto permite que la función trabaje con diferentes entradas."
      ],
      "metadata": {
        "id": "GaXtDjUzojri"
      }
    },
    {
      "cell_type": "code",
      "source": [
        "def saludar(nombre):\n",
        "    print(f\"Hola, {nombre}!\")\n",
        "\n",
        "saludar(\"Juan\")  # Salida: Hola, Juan!\n",
        "saludar(\"Ana\")   # Salida: Hola, Ana!"
      ],
      "metadata": {
        "colab": {
          "base_uri": "https://localhost:8080/"
        },
        "id": "HiXWLLdnocrU",
        "outputId": "9edd1561-651d-4aee-b803-2c59679599a1"
      },
      "execution_count": null,
      "outputs": [
        {
          "output_type": "stream",
          "name": "stdout",
          "text": [
            "Hola, Juan!\n",
            "Hola, Ana!\n"
          ]
        }
      ]
    },
    {
      "cell_type": "markdown",
      "source": [
        "### 3. Funciones con multiples parametros"
      ],
      "metadata": {
        "id": "gUBE3d5LoyZ4"
      }
    },
    {
      "cell_type": "code",
      "source": [
        "def sumar(a, b):\n",
        "    resultado = a + b\n",
        "    return resultado\n",
        "\n",
        "a = sumar(3, 5)"
      ],
      "metadata": {
        "id": "hL41b1bXovRJ"
      },
      "execution_count": null,
      "outputs": []
    },
    {
      "cell_type": "code",
      "source": [
        "a"
      ],
      "metadata": {
        "colab": {
          "base_uri": "https://localhost:8080/"
        },
        "id": "h4QSk8S6sXGj",
        "outputId": "125a2045-0dae-47c8-a2c7-e2d2ab43f1d7"
      },
      "execution_count": null,
      "outputs": [
        {
          "output_type": "execute_result",
          "data": {
            "text/plain": [
              "8"
            ]
          },
          "metadata": {},
          "execution_count": 110
        }
      ]
    },
    {
      "cell_type": "markdown",
      "source": [
        "#### Aca usamos `return` para devolver el valor calculado. La función retorna un valor, que luego puede ser usado en otro lugar del programa.\n",
        "\n"
      ],
      "metadata": {
        "id": "mYDNkHHzpF7Y"
      }
    },
    {
      "cell_type": "markdown",
      "source": [
        "### 4. Parametros con valores por defecto"
      ],
      "metadata": {
        "id": "fMg72PDjpOE4"
      }
    },
    {
      "cell_type": "code",
      "source": [
        "def saludar(nombre=\"desconocido\"):\n",
        "    print(f\"Hola, {nombre}!\")\n",
        "\n",
        "saludar()  # Salida: Hola, desconocido!\n",
        "saludar(\"Maria\")  # Salida: Hola, Maria!"
      ],
      "metadata": {
        "colab": {
          "base_uri": "https://localhost:8080/"
        },
        "id": "gMYnL30spAqf",
        "outputId": "ff367e88-864a-4483-f3bc-155f6dcd6bef"
      },
      "execution_count": null,
      "outputs": [
        {
          "output_type": "stream",
          "name": "stdout",
          "text": [
            "Hola, desconocido!\n",
            "Hola, Maria!\n"
          ]
        }
      ]
    },
    {
      "cell_type": "markdown",
      "source": [
        "### 5. Funciones con un numero variable de argumentos\n",
        "\n",
        "En algunos casos, puedes que quieras una función acepte un número indefinido de argumentos. Para ello, se usa el operador `*` delante de un parámetro para indicar que puede recibir varios valores (se almacena como una tupla)."
      ],
      "metadata": {
        "id": "XyH3ZMGnpe6I"
      }
    },
    {
      "cell_type": "code",
      "source": [
        "def sumar_todos(*args):\n",
        "    total = 0\n",
        "    for num in args:\n",
        "        total += num\n",
        "    return total\n",
        "\n",
        "print(sumar_todos(1, 2, 3, 4))  # Salida: 10"
      ],
      "metadata": {
        "colab": {
          "base_uri": "https://localhost:8080/"
        },
        "id": "VXcAV0I9patI",
        "outputId": "d50b4660-6104-4126-e78f-b1a0e4e9213b"
      },
      "execution_count": null,
      "outputs": [
        {
          "output_type": "stream",
          "name": "stdout",
          "text": [
            "10\n"
          ]
        }
      ]
    },
    {
      "cell_type": "markdown",
      "source": [
        "### 6. Argumentos con nombre (Keyword Arguments)\n",
        "\n",
        "Muy util para dejar emplicito el parametro al cual estas asignando el valor. Se usa mucho para dejar el codigo prolijo."
      ],
      "metadata": {
        "id": "nDJgtPHep3qc"
      }
    },
    {
      "cell_type": "code",
      "source": [
        "def describir_persona(nombre, edad, ciudad):\n",
        "    print(f\"{nombre} tiene {edad} años y vive en {ciudad}.\")\n",
        "\n",
        "describir_persona(nombre=\"Carlos\", edad=25, ciudad=\"Madrid\")\n",
        "# Salida: Carlos tiene 25 años y vive en Madrid."
      ],
      "metadata": {
        "colab": {
          "base_uri": "https://localhost:8080/"
        },
        "id": "nS6lLPkbpvRx",
        "outputId": "95ddd32c-d6e9-4279-e1d0-dd2eef2f4700"
      },
      "execution_count": null,
      "outputs": [
        {
          "output_type": "stream",
          "name": "stdout",
          "text": [
            "Carlos tiene 25 años y vive en Madrid.\n"
          ]
        }
      ]
    },
    {
      "cell_type": "markdown",
      "source": [
        "### 7. Documentacion de funciones (docstring)"
      ],
      "metadata": {
        "id": "9MZvfGWBqdsx"
      }
    },
    {
      "cell_type": "code",
      "source": [
        "def sumar(a, b):\n",
        "    \"\"\"\n",
        "    Esta función suma dos números.\n",
        "\n",
        "    Args:\n",
        "    a -- El primer número.\n",
        "    b -- El segundo número.\n",
        "\n",
        "    Return:\n",
        "    La suma de a y b.\n",
        "    \"\"\"\n",
        "    return a + b\n",
        "\n",
        "sumar"
      ],
      "metadata": {
        "colab": {
          "base_uri": "https://localhost:8080/",
          "height": 187
        },
        "id": "fdRoN20TqKBO",
        "outputId": "f3f2486a-b731-40bc-ee7d-72e112eac632"
      },
      "execution_count": null,
      "outputs": [
        {
          "output_type": "execute_result",
          "data": {
            "text/plain": [
              "<function __main__.sumar(a, b)>"
            ],
            "text/html": [
              "<div style=\"max-width:800px; border: 1px solid var(--colab-border-color);\"><style>\n",
              "      pre.function-repr-contents {\n",
              "        overflow-x: auto;\n",
              "        padding: 8px 12px;\n",
              "        max-height: 500px;\n",
              "      }\n",
              "\n",
              "      pre.function-repr-contents.function-repr-contents-collapsed {\n",
              "        cursor: pointer;\n",
              "        max-height: 100px;\n",
              "      }\n",
              "    </style>\n",
              "    <pre style=\"white-space: initial; background:\n",
              "         var(--colab-secondary-surface-color); padding: 8px 12px;\n",
              "         border-bottom: 1px solid var(--colab-border-color);\"><b>sumar</b><br/>def sumar(a, b)</pre><pre class=\"function-repr-contents function-repr-contents-collapsed\" style=\"\"><a class=\"filepath\" style=\"display:none\" href=\"#\">/tmp/ipython-input-112-2278838659.py</a>Esta función suma dos números.\n",
              "\n",
              "Args:\n",
              "a -- El primer número.\n",
              "b -- El segundo número.\n",
              "\n",
              "Return:\n",
              "La suma de a y b.</pre></div>"
            ]
          },
          "metadata": {},
          "execution_count": 112
        }
      ]
    },
    {
      "cell_type": "markdown",
      "source": [
        "### 8. Variables globales vs locales\n"
      ],
      "metadata": {
        "id": "dmhhbf6xrGYG"
      }
    },
    {
      "cell_type": "code",
      "source": [
        "x = 5  # Variable global\n",
        "\n",
        "def imprimir():\n",
        "    y = 10 # Variable local\n",
        "    print(f\"x: {x}\")  # Podemos acceder a la variable global\n",
        "    print(f\"y: {y}\")  # Variable local dentro de la función\n",
        "\n",
        "imprimir()\n",
        "#print(y)\n"
      ],
      "metadata": {
        "colab": {
          "base_uri": "https://localhost:8080/"
        },
        "id": "B0EO81Rkqwg3",
        "outputId": "d7a2852c-5eeb-4af1-f383-6af53ffeb3fa"
      },
      "execution_count": null,
      "outputs": [
        {
          "output_type": "stream",
          "name": "stdout",
          "text": [
            "x: 5\n",
            "y: 10\n"
          ]
        }
      ]
    },
    {
      "cell_type": "markdown",
      "source": [
        "### 9. Argumentos de palabras clave variables (**kwargs)\n",
        "\n",
        "`**kwargs` permite que una función acepte un número indefinido de argumentos con nombre o palabras clave. **En lugar de almacenarse en una tupla, estos se guardan en un diccionario.**\n",
        "\n",
        "¿Cómo funciona `**kwargs`?\n",
        "* El `**` antes de `kwargs` indica a Python que todos los argumentos de palabras clave se deben almacenar en un diccionario.\n",
        "* De nuevo, `kwargs` es una convención, puedes usar otro nombre, pero es lo más común."
      ],
      "metadata": {
        "id": "B5AmIk-Tuq1N"
      }
    },
    {
      "cell_type": "code",
      "source": [
        "def imprimir_informacion(**kwards):\n",
        "    \"\"\"\n",
        "    Esta función imprime información sobre una persona. No se de antemano que información puede recibir.\n",
        "    \"\"\"\n",
        "    for clave, valor in kwards.items():\n",
        "        print(f\"{clave}: {valor}\")\n",
        "\n",
        "imprimir_informacion(nombre=\"Carlos\", edad=30, ciudad=\"Madrid\")"
      ],
      "metadata": {
        "colab": {
          "base_uri": "https://localhost:8080/"
        },
        "id": "D_L2-dWZrdNd",
        "outputId": "77d5af91-72b6-41d4-8cd3-4a6a8a3a538a"
      },
      "execution_count": null,
      "outputs": [
        {
          "output_type": "stream",
          "name": "stdout",
          "text": [
            "nombre: Carlos\n",
            "edad: 30\n",
            "ciudad: Madrid\n"
          ]
        }
      ]
    },
    {
      "cell_type": "markdown",
      "source": [
        "### 10. Uso combinado de `*args` y `**kwargs`:\n",
        "\n",
        "* NOTA: Puedes combinar ambos en una misma función para aceptar tanto argumentos posicionales como de palabras clave. Sin embargo, `*args` debe ir antes de `**kwargs`."
      ],
      "metadata": {
        "id": "c8NpVOg21eY5"
      }
    },
    {
      "cell_type": "code",
      "source": [
        "def funcion_combinada(*args, **kwargs):\n",
        "    print(\"Argumentos posicionales:\", args)\n",
        "    print(\"Argumentos con palabras clave:\", kwargs)\n",
        "\n",
        "funcion_combinada(1, 2, 3, nombre=\"Ana\", edad=25)"
      ],
      "metadata": {
        "colab": {
          "base_uri": "https://localhost:8080/"
        },
        "id": "_C_VmpBVv2kG",
        "outputId": "7225faa2-fb9d-4fec-b04c-fe2108a28fd7"
      },
      "execution_count": null,
      "outputs": [
        {
          "output_type": "stream",
          "name": "stdout",
          "text": [
            "Argumentos posicionales: (1, 2, 3)\n",
            "Argumentos con palabras clave: {'nombre': 'Ana', 'edad': 25}\n"
          ]
        }
      ]
    },
    {
      "cell_type": "markdown",
      "source": [
        "### 11. Orden de los parámetros en funciones\n",
        "\n",
        "1. Argumentos normales (parámetros posicionales).\n",
        "2. `*args` (argumentos posicionales variables).\n",
        "3. Argumentos con palabras clave (parámetros con valores por defecto).\n",
        "4. `**kwargs` (argumentos de palabras clave variables)."
      ],
      "metadata": {
        "id": "hMrnV5af2DLv"
      }
    },
    {
      "cell_type": "code",
      "source": [
        "def funcion_completa(a, b, *args, c=10, **kwargs):\n",
        "    print(f\"a: {a}, b: {b}, c: {c}\")\n",
        "    print(\"args:\", args)\n",
        "    print(\"kwargs:\", kwargs)\n",
        "\n",
        "funcion_completa(1, 2, 3, 4, 5, c=20, d=6, e=7)\n"
      ],
      "metadata": {
        "colab": {
          "base_uri": "https://localhost:8080/"
        },
        "id": "uZ61fcNl11Ge",
        "outputId": "52bbd93c-6d22-441f-fdf9-24f6c1f5b4a3"
      },
      "execution_count": null,
      "outputs": [
        {
          "output_type": "stream",
          "name": "stdout",
          "text": [
            "a: 1, b: 2, c: 20\n",
            "args: (3, 4, 5)\n",
            "kwargs: {'d': 6, 'e': 7}\n"
          ]
        }
      ]
    },
    {
      "cell_type": "markdown",
      "source": [
        "### 12. Aplicaciones comunes de `*args` y `**kwargs`"
      ],
      "metadata": {
        "id": "Y01J06Ly2igI"
      }
    },
    {
      "cell_type": "code",
      "source": [
        "def registrar_evento(evento, *detalles, **metadatos):\n",
        "    print(f\"Evento: {evento}\")\n",
        "    print(\"Detalles:\", detalles)\n",
        "    print(\"Metadatos:\", metadatos)\n",
        "\n",
        "registrar_evento(\"inicio_sesion\", \"usuario_123\", \"navegador=chrome\", ip=\"192.168.1.1\")"
      ],
      "metadata": {
        "colab": {
          "base_uri": "https://localhost:8080/"
        },
        "id": "M60bc6nD2ZXv",
        "outputId": "fe4296aa-db25-40d3-f0d6-b233dcff6e28"
      },
      "execution_count": null,
      "outputs": [
        {
          "output_type": "stream",
          "name": "stdout",
          "text": [
            "Evento: inicio_sesion\n",
            "Detalles: ('usuario_123', 'navegador=chrome')\n",
            "Metadatos: {'ip': '192.168.1.1'}\n"
          ]
        }
      ]
    },
    {
      "cell_type": "code",
      "source": [
        "def describir_persona(nombre, **kwargs):\n",
        "    print(f\"Nombre: {nombre}\")\n",
        "    for clave, valor in kwargs.items():\n",
        "        print(f\"{clave}: {valor}\")\n",
        "\n",
        "describir_persona(\"Carlos\", edad=30, ciudad=\"Madrid\", profesion=\"Ingeniero\")"
      ],
      "metadata": {
        "colab": {
          "base_uri": "https://localhost:8080/"
        },
        "id": "EdGSkNnE20yC",
        "outputId": "dac3327c-02d6-41a8-cfd3-83dd1ef77f42"
      },
      "execution_count": null,
      "outputs": [
        {
          "output_type": "stream",
          "name": "stdout",
          "text": [
            "Nombre: Carlos\n",
            "edad: 30\n",
            "ciudad: Madrid\n",
            "profesion: Ingeniero\n"
          ]
        }
      ]
    },
    {
      "cell_type": "markdown",
      "source": [
        "## Modulo `random`\n",
        "\n",
        "El módulo random es muy útil para generar números aleatorios, seleccionar elementos al azar de una lista\n",
        "\n",
        "`import random`"
      ],
      "metadata": {
        "id": "3ERi3jm3Ae-8"
      }
    },
    {
      "cell_type": "markdown",
      "source": [
        "### 1. Generar numeros aleatorios entre a y b"
      ],
      "metadata": {
        "id": "hKQIwWrpA9ed"
      }
    },
    {
      "cell_type": "code",
      "source": [
        "import random\n",
        "print(random.randint(1, 10))  # Un número aleatorio entre 1 y 10"
      ],
      "metadata": {
        "colab": {
          "base_uri": "https://localhost:8080/"
        },
        "id": "ADTrm_YH3Uif",
        "outputId": "0d4cdca4-9e26-4ceb-9802-364f4efeb358"
      },
      "execution_count": null,
      "outputs": [
        {
          "output_type": "stream",
          "name": "stdout",
          "text": [
            "5\n"
          ]
        }
      ]
    },
    {
      "cell_type": "markdown",
      "source": [
        "### 2. Seleccionar un elemento al azar"
      ],
      "metadata": {
        "id": "TDU31rl-BK_b"
      }
    },
    {
      "cell_type": "code",
      "source": [
        "lista = ['rojo', 'verde', 'azul']\n",
        "print(random.choice(lista))  # Selecciona un color al azar"
      ],
      "metadata": {
        "colab": {
          "base_uri": "https://localhost:8080/"
        },
        "id": "G-ELiYx1BD3b",
        "outputId": "74937b2e-c709-4f2f-910b-8f5f2d1f6daf"
      },
      "execution_count": null,
      "outputs": [
        {
          "output_type": "stream",
          "name": "stdout",
          "text": [
            "verde\n"
          ]
        }
      ]
    },
    {
      "cell_type": "markdown",
      "source": [
        "### 3. Mesclar una lista"
      ],
      "metadata": {
        "id": "3GQWOxkcBRh5"
      }
    },
    {
      "cell_type": "code",
      "source": [
        "cartas = ['A', '2', '3', '4', '5']\n",
        "random.shuffle(cartas)\n",
        "print(cartas)  # Cartas mezcladas"
      ],
      "metadata": {
        "colab": {
          "base_uri": "https://localhost:8080/"
        },
        "id": "GyeOwZHBBYZh",
        "outputId": "bf8bb7f3-810e-4789-c537-9e8ed79ac7d1"
      },
      "execution_count": null,
      "outputs": [
        {
          "output_type": "stream",
          "name": "stdout",
          "text": [
            "['2', '4', 'A', '3', '5']\n"
          ]
        }
      ]
    },
    {
      "cell_type": "markdown",
      "source": [
        "### 4. Generar un numero aleatorio entre 0.0 y 1.0"
      ],
      "metadata": {
        "id": "Q3sSpNSfBcwX"
      }
    },
    {
      "cell_type": "code",
      "source": [
        "print(random.random())  # Ejemplo: 0.4532438"
      ],
      "metadata": {
        "colab": {
          "base_uri": "https://localhost:8080/"
        },
        "id": "dj28K_tDBcYG",
        "outputId": "c0330cff-999e-4631-f3b3-2032b3ad73a4"
      },
      "execution_count": null,
      "outputs": [
        {
          "output_type": "stream",
          "name": "stdout",
          "text": [
            "0.7057069667141246\n"
          ]
        }
      ]
    },
    {
      "cell_type": "markdown",
      "source": [
        "### 5. Generar un numero flotante dentro de un rango:"
      ],
      "metadata": {
        "id": "ZoHF-JPABrVr"
      }
    },
    {
      "cell_type": "code",
      "source": [
        "print(random.uniform(1, 10))  # Ejemplo: 7.89432"
      ],
      "metadata": {
        "colab": {
          "base_uri": "https://localhost:8080/"
        },
        "id": "S6zBCcvABq8Q",
        "outputId": "c794c358-82a5-4b6b-bc30-e3014d26551b"
      },
      "execution_count": null,
      "outputs": [
        {
          "output_type": "stream",
          "name": "stdout",
          "text": [
            "7.41394341010958\n"
          ]
        }
      ]
    },
    {
      "cell_type": "code",
      "source": [],
      "metadata": {
        "id": "MJawRi05BZX2"
      },
      "execution_count": null,
      "outputs": []
    },
    {
      "cell_type": "code",
      "source": [],
      "metadata": {
        "id": "YQYonUKjDthC"
      },
      "execution_count": null,
      "outputs": []
    }
  ]
}
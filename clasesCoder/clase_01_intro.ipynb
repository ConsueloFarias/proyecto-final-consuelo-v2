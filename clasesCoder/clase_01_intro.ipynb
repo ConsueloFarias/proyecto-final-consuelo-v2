{
 "cells": [
  {
   "cell_type": "code",
   "execution_count": null,
   "id": "ce7f4543-a19b-4318-a827-77d497584704",
   "metadata": {},
   "outputs": [],
   "source": []
  }
 ],
 "metadata": {
  "kernelspec": {
   "display_name": "",
   "name": ""
  },
  "language_info": {
   "name": ""
  }
 },
 "nbformat": 4,
 "nbformat_minor": 5
}
